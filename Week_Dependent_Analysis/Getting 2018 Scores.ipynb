{
 "cells": [
  {
   "cell_type": "code",
   "execution_count": 8,
   "metadata": {},
   "outputs": [
    {
     "name": "stdout",
     "output_type": "stream",
     "text": [
      "/Users/James/Desktop/Eigth Semester/Stochastic Modelling/NFL_Project/Week Dependent Analysis\n"
     ]
    }
   ],
   "source": [
    "import numpy as np\n",
    "import pandas as pd\n",
    "from itertools import combinations\n",
    "import matplotlib.pyplot as plt\n",
    "%matplotlib inline\n",
    "import scipy as sc\n",
    "import time\n",
    "import sys\n",
    "%cd /Users/James/Desktop/Eigth Semester/Stochastic Modelling/NFL_Project/Week Dependent Analysis"
   ]
  },
  {
   "cell_type": "code",
   "execution_count": 9,
   "metadata": {
    "collapsed": true
   },
   "outputs": [],
   "source": [
    "# method\n",
    "filesScore = \"week_data_2017.csv\"\n",
    "filesTeams = \"teams_2017.csv\"\n",
    "\n",
    "filesPercs = \"2018_win_perc.csv\"\n",
    "namesCols = \"win_perc_2017\""
   ]
  },
  {
   "cell_type": "code",
   "execution_count": 10,
   "metadata": {
    "collapsed": true
   },
   "outputs": [],
   "source": [
    "def week_UB_Pij(data, weekub, method, weighted):\n",
    "    \n",
    "    # Getting the Data in the right form\n",
    "    data = data.drop(['game_id', 'home_team'], axis=1)\n",
    "    if method == \"less\":\n",
    "        # IF METHOD IS WEEKS LESS THAN:\n",
    "        data[\"week\"] = data[data[\"week\"] < weekub][\"week\"]\n",
    "    if method == \"equal\":\n",
    "        # IF METHOD IS GETTING THE EXACT WEEK\n",
    "        data[\"week\"] = data[data[\"week\"] == weekub][\"week\"]\n",
    "    if method == \"between\":\n",
    "        # If METHOD IS BETWEEN (WITH CONTAINMENT ON THE UPPER END)\n",
    "        data[\"week\"] = data[np.logical_and(data[\"week\"] > weekub[0],data[\"week\"] <= weekub[1])][\"week\"]\n",
    "    data = data.dropna()\n",
    "    data = data.drop(\"week\", axis = 1)\n",
    "    data_np = np.array(data)\n",
    "    \n",
    "    Pij = np.zeros((32,32))\n",
    "    \n",
    "    # Computing the Pij Matrix\n",
    "    for iCnt in range(np.shape(data_np)[0]):\n",
    "        winner = int(data_np[iCnt,0])-1\n",
    "        loser =  int(data_np[iCnt,1])-1\n",
    "        # checking if an interdivisional game has occurred\n",
    "        if (Pij[loser,winner] == 0) & (Pij[winner,loser] == 0):\n",
    "            Pij[winner,loser] = data_np[iCnt,2]\n",
    "        # when the other team had won the first game\n",
    "        elif (Pij[loser,winner] > 0):\n",
    "            if (Pij[loser,winner] > data_np[iCnt,2]):\n",
    "                Pij[loser,winner] = (Pij[loser,winner] - data_np[iCnt,2])/2\n",
    "            else: \n",
    "                Pij[winner,loser] = -(Pij[loser,winner] - data_np[iCnt,2])/2\n",
    "                Pij[loser,winner] = 0\n",
    "        # when the same team won the first game\n",
    "        else: \n",
    "            Pij[winner,loser] = (Pij[winner,loser] + data_np[iCnt,2])/2\n",
    "            \n",
    "    if(weighted == False):\n",
    "                Pij[Pij!=0] = 1\n",
    "            \n",
    "    # making sure none of the columns sum to 0\n",
    "    if len(np.where(Pij.sum(axis = 0) == 0)[0]) > 0:\n",
    "        empty_vect = np.where(Pij.sum(axis = 0) == 0)[0]\n",
    "        for iCnt in range(len(empty_vect)):\n",
    "            Pij[empty_vect[iCnt],empty_vect[iCnt]] = 1\n",
    "    \n",
    "    # making the Pij matrix\n",
    "    Pij = Pij/Pij.sum(axis=0)\n",
    "        \n",
    "    # returning the Pij Matrix\n",
    "    return Pij"
   ]
  },
  {
   "cell_type": "code",
   "execution_count": 11,
   "metadata": {
    "collapsed": true
   },
   "outputs": [],
   "source": [
    "blocks = [0,4,8,12,16]\n",
    "data = pd.read_csv('week_data_2017.csv',index_col=0)\n",
    "alpha = 0.06"
   ]
  },
  {
   "cell_type": "code",
   "execution_count": 12,
   "metadata": {
    "collapsed": true
   },
   "outputs": [],
   "source": [
    "# making the teleporting probabilities uniform TO START\n",
    "v = np.ones(32)/32\n",
    "v = v[np.newaxis]\n",
    "v = v.T\n",
    "\n",
    "\n",
    "for iCnt in range(len(blocks)-1):\n",
    "    # setting the weeks to look at\n",
    "    weekub = [blocks[iCnt],blocks[iCnt+1]]\n",
    "    \n",
    "    # setting Pij\n",
    "    Pij = week_UB_Pij(data, weekub, method = \"between\", weighted = True)\n",
    "    # If we want the teleportation probabilties unifrom,\n",
    "    # or based on team winning perc\n",
    "                \n",
    "    # initializing our first guess\n",
    "    x0 = np.ones(32)/32\n",
    "    x0 = x0[np.newaxis]\n",
    "    x0 = x0.T\n",
    "            \n",
    "    # performing the simulation\n",
    "    for i in range(5000):\n",
    "        x0 = alpha*np.dot(Pij,x0) + (1-alpha)*v\n",
    "        \n",
    "    v = x0\n",
    "\n",
    "    \n",
    "scores = np.squeeze(x0)"
   ]
  },
  {
   "cell_type": "code",
   "execution_count": 13,
   "metadata": {},
   "outputs": [
    {
     "name": "stdout",
     "output_type": "stream",
     "text": [
      "['NE' 'BUF' 'WAS' 'TEN' 'HOU' 'DET' 'CLE' 'CHI' 'CIN' 'LA' 'SF' 'GB' 'DAL'\n",
      " 'MIN' 'DEN' 'BAL' 'TB' 'PIT' 'NO' 'KC' 'JAX' 'IND' 'CAR' 'OAK' 'LAC' 'SEA'\n",
      " 'ATL' 'NYG' 'PHI' 'NYJ' 'ARI' 'MIA']\n"
     ]
    }
   ],
   "source": [
    "teams = pd.read_csv('teams_2017.csv',index_col=0)\n",
    "team_names = np.array(teams[\"team_name\"])\n",
    "print(team_names)"
   ]
  },
  {
   "cell_type": "code",
   "execution_count": 14,
   "metadata": {},
   "outputs": [
    {
     "name": "stdout",
     "output_type": "stream",
     "text": [
      "   Team     score       wins\n",
      "13  MIN  0.042130  10.785241\n",
      "0    NE  0.039883  10.210143\n",
      "18   NO  0.038831   9.940767\n",
      "28  PHI  0.037527   9.607026\n",
      "22  CAR  0.037464   9.590797\n",
      "9    LA  0.037307   9.550687\n",
      "19   KC  0.036020   9.221048\n",
      "17  PIT  0.035203   9.011994\n",
      "20  JAX  0.034924   8.940455\n",
      "15  BAL  0.033949   8.690932\n",
      "25  SEA  0.033526   8.582739\n",
      "3   TEN  0.031676   8.109137\n",
      "12  DAL  0.030933   7.918818\n",
      "26  ATL  0.030919   7.915146\n",
      "1   BUF  0.030296   7.755797\n",
      "31  MIA  0.030155   7.719553\n",
      "5   DET  0.029342   7.511624\n",
      "2   WAS  0.029320   7.505966\n",
      "7   CHI  0.029120   7.454845\n",
      "4   HOU  0.028841   7.383346\n",
      "11   GB  0.028622   7.327190\n",
      "30  ARI  0.028522   7.301554\n",
      "24  LAC  0.028229   7.226728\n",
      "8   CIN  0.028041   7.178469\n",
      "10   SF  0.027647   7.077744\n",
      "29  NYJ  0.027583   7.061197\n",
      "14  DEN  0.027289   6.985866\n",
      "23  OAK  0.026340   6.742954\n",
      "16   TB  0.025735   6.588088\n",
      "21  IND  0.025138   6.435397\n",
      "27  NYG  0.025089   6.422761\n",
      "6   CLE  0.024398   6.245992\n"
     ]
    }
   ],
   "source": [
    "teamrank = {'Team': team_names, 'score': scores, 'wins': 32*16/2*scores}\n",
    "teamrank_df = pd.DataFrame(data=teamrank)\n",
    "teamrank_df = teamrank_df.sort_values(by=['score'], ascending = False)\n",
    "print(teamrank_df)"
   ]
  },
  {
   "cell_type": "code",
   "execution_count": null,
   "metadata": {
    "collapsed": true
   },
   "outputs": [],
   "source": []
  }
 ],
 "metadata": {
  "kernelspec": {
   "display_name": "Python 3",
   "language": "python",
   "name": "python3"
  },
  "language_info": {
   "codemirror_mode": {
    "name": "ipython",
    "version": 3
   },
   "file_extension": ".py",
   "mimetype": "text/x-python",
   "name": "python",
   "nbconvert_exporter": "python",
   "pygments_lexer": "ipython3",
   "version": "3.6.3"
  }
 },
 "nbformat": 4,
 "nbformat_minor": 2
}
