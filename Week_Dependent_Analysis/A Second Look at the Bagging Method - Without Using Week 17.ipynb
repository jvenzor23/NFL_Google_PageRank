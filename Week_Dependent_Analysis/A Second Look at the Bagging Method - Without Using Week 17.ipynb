{
 "cells": [
  {
   "cell_type": "code",
   "execution_count": 1,
   "metadata": {
    "collapsed": true
   },
   "outputs": [],
   "source": [
    "import numpy as np\n",
    "import pandas as pd\n",
    "from itertools import combinations\n",
    "import matplotlib.pyplot as plt\n",
    "%matplotlib inline\n",
    "import scipy as sc\n",
    "import time\n",
    "import sys"
   ]
  },
  {
   "cell_type": "code",
   "execution_count": 7,
   "metadata": {
    "collapsed": true
   },
   "outputs": [],
   "source": [
    "# method\n",
    "filesScore = [\"week_data_2009.csv\",\"week_data_2010.csv\",\n",
    "              \"week_data_2011.csv\",\"week_data_2012.csv\",\n",
    "              \"week_data_2013.csv\",\"week_data_2014.csv\",\n",
    "              \"week_data_2015.csv\",\"week_data_2016.csv\",\n",
    "              \"week_data_2017.csv\",\"week_data_2018.csv\"]\n",
    "filesTeams = [\"teams_2009.csv\",\"teams_2010.csv\",\n",
    "              \"teams_2011.csv\",\"teams_2012.csv\",\n",
    "              \"teams_2013.csv\",\"teams_2014.csv\",\n",
    "              \"teams_2015.csv\",\"teams_2016.csv\",\n",
    "              \"teams_2017.csv\",\"teams_2018.csv\"]\n",
    "\n",
    "filesPercs = [\"2009_win_perc.csv\",\"2010_win_perc.csv\",\"2011_win_perc.csv\",\"2012_win_perc.csv\",\n",
    "             \"2013_win_perc.csv\",\"2014_win_perc.csv\",\"2015_win_perc.csv\",\n",
    "             \"2016_win_perc.csv\",\"2017_win_perc.csv\",\"2018_win_perc.csv\"]\n",
    "namesCols = [\"win_perc_2009\",\"win_perc_2010\",\"win_perc_2011\",\"win_perc_2012\",\n",
    "            \"win_perc_2013\",\"win_perc_2014\",\"win_perc_2015\",\n",
    "            \"win_perc_2016\",\"win_perc_2017\",\"win_perc_2018\"]"
   ]
  },
  {
   "cell_type": "code",
   "execution_count": 3,
   "metadata": {
    "collapsed": true
   },
   "outputs": [],
   "source": [
    "def ranking_analyzer(output,names,plot = False, threshold = 0):\n",
    "    # importing necessary libraries\n",
    "    from itertools import combinations\n",
    "    # getting vectors from the data frame\n",
    "    perc1 = np.array(output[names[0]])\n",
    "    perc2 = np.array(output[names[1]])\n",
    "    percscore = np.array(output['score'])\n",
    "    # getting the combinations\n",
    "    combs = list(combinations(np.arange(32), 2))\n",
    "    ncombs = len(combs)\n",
    "    # initiailizing the vectors\n",
    "    scorediff = np.zeros(int(ncombs))\n",
    "    wins1diff = np.zeros(int(ncombs))\n",
    "    wins2diff = np.zeros(int(ncombs))\n",
    "    # Computing the values\n",
    "    for counter, pairs in enumerate(combs):\n",
    "        scorediff[counter] = percscore[pairs[0]] - percscore[pairs[1]]\n",
    "        wins1diff[counter] = perc1[pairs[0]] - perc1[pairs[1]]\n",
    "        wins2diff[counter] = perc2[pairs[0]] - perc2[pairs[1]]\n",
    "\n",
    "    # putting in a mask for plotting perspective\n",
    "    mask = wins1diff < 0/16\n",
    "    scorediff_not_adv = scorediff[mask]\n",
    "    scorediff_adv = scorediff[np.invert(mask)]\n",
    "\n",
    "    wins2diff_not_adv = wins2diff[mask]\n",
    "    wins2diff_adv = wins2diff[np.invert(mask)]\n",
    "    if plot == True:\n",
    "        threshmask = scorediff_not_adv > threshold\n",
    "        scoreplt = scorediff_not_adv[threshmask]\n",
    "        winsplt = wins2diff_not_adv[threshmask]\n",
    "        \n",
    "        correctmask = winsplt > 0\n",
    "        xc = scoreplt[correctmask]\n",
    "        yc = winsplt[correctmask]\n",
    "        xic = scoreplt[np.invert(correctmask)]\n",
    "        yic = winsplt[np.invert(correctmask)]\n",
    "        \n",
    "        plt.figure(figsize=(15,7))\n",
    "        plt.plot(scorediff_not_adv,wins2diff_not_adv,'ko',label = \"Predictions Outside of Threshold\")\n",
    "        plt.plot(xc,yc,'go',label = \"Correct Contrary Prediction\")\n",
    "        plt.plot(xic,yic,'ro',label = \"Incorrect Contrary Prediction\")\n",
    "        plt.plot([0,1.01*np.max(scorediff)],[0,0],'k-')\n",
    "        plt.plot([threshold,threshold],[np.min(wins2diff),np.max(wins2diff)],'k-')\n",
    "        plt.xlabel('Difference in PageRank Score')\n",
    "        plt.ylabel('Difference in Following Year Winning Percentage')\n",
    "        plt.legend()\n",
    "        plt.grid()\n",
    "        \n",
    "    \n",
    "    # Getting the percentage of games where a team with a same or worse record in year N\n",
    "    # with a better PageRank ended up being better in year N+1\n",
    "    # Threshold determines amount PageRank needs to be better by\n",
    "    \n",
    "    mask = scorediff_not_adv > threshold\n",
    "    wins2diff_not_adv = wins2diff_not_adv[mask]\n",
    "    perc_upset = np.sum(wins2diff_not_adv > 0)/len(wins2diff_not_adv)\n",
    "    n_upset_opps = len(wins2diff_not_adv)\n",
    "    \n",
    "    if plot == True:\n",
    "        plt.title(\"Correct Percentage of Contrary Predictions: %.3f\" %perc_upset)\n",
    "    \n",
    "    \n",
    "    # Getting the total combinations right\n",
    "    perc_correct_score = sum(wins2diff>0)/len(scorediff)\n",
    "    perc_correct_wins = (sum(np.logical_and(wins1diff>0,wins2diff>0))+ \\\n",
    "                         sum(np.logical_and(wins1diff<0,wins2diff<0)))/len(wins1diff)\n",
    "    \n",
    "    return perc_upset, perc_correct_score,perc_correct_wins,n_upset_opps\n",
    "    "
   ]
  },
  {
   "cell_type": "code",
   "execution_count": 4,
   "metadata": {
    "collapsed": true
   },
   "outputs": [],
   "source": [
    "def score_bagging(Pij, stats1, namesCols, alpha, N, Nsims = 2500, method = 0):\n",
    "    \n",
    "    if N == 0:\n",
    "        Pij_group = Pij\n",
    "        teamnum = np.arange(32)\n",
    "        if method == 0:\n",
    "            # making the teleporting probabilities uniform\n",
    "            v = np.ones(len(teamnum)-N)/(len(teamnum)-N)\n",
    "            v = v[np.newaxis]\n",
    "            v = v.T\n",
    "            # Setting alpha\n",
    "            alpha = alpha\n",
    "            # Setting eT\n",
    "            eT = np.ones(len(teamnum)-N)[np.newaxis]   \n",
    "        else:\n",
    "            # making the teleporting probabilities proportional to\n",
    "            # the teams winning percentages\n",
    "            v = np.array(stats1[namesCols])\n",
    "            v = np.delete(v, group)\n",
    "            v = v[np.newaxis]\n",
    "            v = v.T\n",
    "            v = v/np.sum(v)\n",
    "            # Setting alpha\n",
    "            alpha = alpha\n",
    "            # Setting eT\n",
    "            eT = np.ones(len(teamnum)-N)[np.newaxis]\n",
    "                \n",
    "        # initializing our first guess\n",
    "        x0 = np.ones(len(teamnum)-N)/len(teamnum)-N\n",
    "        x0 = x0[np.newaxis]\n",
    "        x0 = x0.T\n",
    "            \n",
    "        # performing the simulation (so our scores are stored in x0)\n",
    "        for i in range(Nsims):\n",
    "            x0 = alpha*np.dot(Pij_group,x0) + (1-alpha)*v\n",
    "        return x0\n",
    "        \n",
    "    \n",
    "    # setting a vector to contain each of the 32 team numbers\n",
    "    teamnum = np.arange(32)\n",
    "    # Getting the possible combinations of this to use\n",
    "    combs = list(combinations(teamnum, N))\n",
    "    ncombs = len(combs)\n",
    "    # initializing a matrix to store each of these values\n",
    "    scores = np.zeros((len(teamnum),ncombs))\n",
    "    # We iterate over all of these combinations, each time computing a final score vector\n",
    "    for counter, group in enumerate(combs):\n",
    "        # Adjusting Pij (first deleting the specified rows, then columns)\n",
    "        Pij_group = np.delete(Pij,group,axis = 0)\n",
    "        Pij_group = np.delete(Pij_group,group,axis = 1)\n",
    "        \n",
    "        # Ensuring Pij has no zero columns\n",
    "        if len(np.where(Pij_group.sum(axis = 0) == 0)[0]) > 0:\n",
    "                empty_vect = np.where(Pij_group.sum(axis = 0) == 0)[0]\n",
    "                for iCnt in range(len(empty_vect)):\n",
    "                    Pij_group[empty_vect[iCnt],empty_vect[iCnt]] = 1\n",
    "        \n",
    "        # -----------Getting the Scores (FROM PREVIOUS CODE)------------------------\n",
    "        # If we want the teleportation probabilties unifrom,\n",
    "        # or based on team winning perc\n",
    "        if method == 0:\n",
    "            # making the teleporting probabilities uniform\n",
    "            v = np.ones(len(teamnum)-N)/(len(teamnum)-N)\n",
    "            v = v[np.newaxis]\n",
    "            v = v.T\n",
    "            # Setting alpha\n",
    "            alpha = alpha\n",
    "            # Setting eT\n",
    "            eT = np.ones(len(teamnum)-N)[np.newaxis]   \n",
    "        else:\n",
    "            # making the teleporting probabilities proportional to\n",
    "            # the teams winning percentages\n",
    "            v = np.array(stats1[namesCols])\n",
    "            v = np.delete(v, group)\n",
    "            v = v[np.newaxis]\n",
    "            v = v.T\n",
    "            v = v/np.sum(v)\n",
    "            # Setting alpha\n",
    "            alpha = alpha\n",
    "            # Setting eT\n",
    "            eT = np.ones(len(teamnum)-N)[np.newaxis]\n",
    "                \n",
    "        # initializing our first guess\n",
    "        x0 = np.ones(len(teamnum)-N)/len(teamnum)-N\n",
    "        x0 = x0[np.newaxis]\n",
    "        x0 = x0.T\n",
    "            \n",
    "        # performing the simulation (so our scores are stored in x0)\n",
    "        for i in range(Nsims):\n",
    "            x0 = alpha*np.dot(Pij_group,x0) + (1-alpha)*v\n",
    "\n",
    "        # ---------------------- (END OF PREVIOUS CODE) ------------------------\n",
    "        # getting a vector of the values of the teams computed\n",
    "        kept_vect = np.delete(teamnum,group)\n",
    "        # Updating the matrix\n",
    "        scores[kept_vect,counter] = np.squeeze(x0)\n",
    "    return scores    "
   ]
  },
  {
   "cell_type": "code",
   "execution_count": 5,
   "metadata": {
    "collapsed": true
   },
   "outputs": [],
   "source": [
    "def final_score(S, x_bar, beta):\n",
    "    # getting the minimum vector\n",
    "    min_vect = np.zeros(32)\n",
    "    # computing the minimums\n",
    "    for iCnt in range(len(min_vect)):\n",
    "        # accounting for winless teams\n",
    "        if len(S[iCnt,np.nonzero(S[iCnt,])[0]]) == 0:\n",
    "            min_vect[iCnt] = 0\n",
    "        else:\n",
    "            min_vect[iCnt] =  np.min(S[iCnt,np.nonzero(S[iCnt,])[0]])\n",
    "    # normalizing the minimum vector\n",
    "    min_vect = min_vect/np.sum(min_vect)\n",
    "    # computing x\n",
    "    x = (1-beta)*x_bar + beta*min_vect\n",
    "    # normalizing x\n",
    "    x = x/np.sum(x)\n",
    "    # returning the value\n",
    "    return np.squeeze(x)"
   ]
  },
  {
   "cell_type": "code",
   "execution_count": 6,
   "metadata": {
    "collapsed": true
   },
   "outputs": [],
   "source": [
    "def week_UB_Pij(data, weekub, method, weighted = True):\n",
    "    \n",
    "    # Getting the Data in the right form\n",
    "    data = data.drop(['game_id', 'home_team'], axis=1)\n",
    "    if method == \"less\":\n",
    "        # IF METHOD IS WEEKS LESS THAN:\n",
    "        data[\"week\"] = data[data[\"week\"] < weekub][\"week\"]\n",
    "    if method == \"equal\":\n",
    "        # If METHOD IS GETTING THE EXACT WEEK\n",
    "        data[\"week\"] = data[data[\"week\"] == weekub][\"week\"]\n",
    "    data = data.dropna()\n",
    "    data = data.drop(\"week\", axis = 1)\n",
    "    data_np = np.array(data)\n",
    "    \n",
    "    Pij = np.zeros((32,32))\n",
    "    \n",
    "    # Computing the Pij Matrix\n",
    "    for iCnt in range(np.shape(data_np)[0]):\n",
    "        winner = int(data_np[iCnt,0])-1\n",
    "        loser =  int(data_np[iCnt,1])-1\n",
    "        # checking if an interdivisional game has occurred\n",
    "        if (Pij[loser,winner] == 0) & (Pij[winner,loser] == 0):\n",
    "            Pij[winner,loser] = data_np[iCnt,2]\n",
    "        # when the other team had won the first game\n",
    "        elif (Pij[loser,winner] > 0):\n",
    "            if (Pij[loser,winner] > data_np[iCnt,2]):\n",
    "                Pij[loser,winner] = (Pij[loser,winner] - data_np[iCnt,2])/2\n",
    "            else: \n",
    "                Pij[winner,loser] = -(Pij[loser,winner] - data_np[iCnt,2])/2\n",
    "                Pij[loser,winner] = 0\n",
    "        # when the same team won the first game\n",
    "        else: \n",
    "            Pij[winner,loser] = (Pij[winner,loser] + data_np[iCnt,2])/2\n",
    "            \n",
    "    if(weighted == False):\n",
    "                Pij[Pij!=0] = 1\n",
    "            \n",
    "    # making sure none of the columns sum to 0\n",
    "    if len(np.where(Pij.sum(axis = 0) == 0)[0]) > 0:\n",
    "        empty_vect = np.where(Pij.sum(axis = 0) == 0)[0]\n",
    "        for iCnt in range(len(empty_vect)):\n",
    "            Pij[empty_vect[iCnt],empty_vect[iCnt]] = 1\n",
    "    \n",
    "    # making the Pij matrix\n",
    "    Pij = Pij/Pij.sum(axis=0)\n",
    "        \n",
    "    # returning the Pij Matrix\n",
    "    return Pij"
   ]
  },
  {
   "cell_type": "code",
   "execution_count": 15,
   "metadata": {
    "collapsed": true
   },
   "outputs": [],
   "source": [
    "def alpha_optimize_perc_combs(ub,alphas,beta,method,filesScore,filesTeams,filesPercs,namesCols, N = 1, nSims = 4000,weighted = True):\n",
    "    # intializing two vectors to store results\n",
    "    score_perc_total = np.zeros(len(alphas))\n",
    "    score_perc_S2 = np.zeros(len(alphas))\n",
    "    wins_perc_total = np.zeros(len(alphas))\n",
    "    wins_perc_S2 = np.zeros(len(alphas))\n",
    "\n",
    "    indexer = 0\n",
    "    \n",
    "    # iterating over all alphas\n",
    "    \n",
    "    # making a waitbar\n",
    "    toolbar_width = len(alphas)\n",
    "    sys.stdout.write(\"[%s]\" % (\" \" * toolbar_width))\n",
    "    sys.stdout.flush()\n",
    "    sys.stdout.write(\"\\b\" * (toolbar_width+1))\n",
    "\n",
    "    \n",
    "    for alpha_try in alphas:\n",
    "        \n",
    "        if(alpha_try >= .8):\n",
    "            nSims_use = nSims\n",
    "        else:\n",
    "            nSims_use = 2500\n",
    "        \n",
    "        # initializing the two correlations\n",
    "        mc_perc_score = 0\n",
    "        mc_perc_wins = 0\n",
    "        \n",
    "        # intializing a vector to get each percentage (for getting a standard deviation)\n",
    "        sd_vect = np.zeros(len(filesScore) - 1)\n",
    "        sd_vect_wins = np.zeros(len(filesScore) - 1)\n",
    "        \n",
    "        # iterating over all years (we lose a year since we don't have anything \n",
    "        # to regress the 2019 data on)\n",
    "        for year_of_data in np.arange(len(filesScore) - 1):\n",
    "            \n",
    "            # reading in the data\n",
    "            data = pd.read_csv(filesScore[year_of_data],index_col=0)\n",
    "            stats1 = pd.read_csv(filesPercs[year_of_data],index_col=0)\n",
    "            stats2 = pd.read_csv(filesPercs[year_of_data + 1],index_col=0)\n",
    "            # converting to a numpy array\n",
    "            data2 = np.array(data)\n",
    "            \n",
    "            Pij = week_UB_Pij(data, ub, \"less\", weighted)\n",
    "            \n",
    "            # If we want the teleportation probabilties unifrom,\n",
    "            # or based on team winning perc\n",
    "            if method == 0:\n",
    "                # making the teleporting probabilities uniform\n",
    "                v = np.ones(32)/32\n",
    "                v = v[np.newaxis]\n",
    "                v = v.T\n",
    "                # Setting eT\n",
    "                eT = np.ones(32)[np.newaxis]   \n",
    "            else:\n",
    "                # making the teleporting probabilities proportional to\n",
    "                # the teams winning percentages\n",
    "                v = np.array(stats1[namesCols[year_of_data]])\n",
    "                v = v[np.newaxis]\n",
    "                v = v.T\n",
    "                v = v/np.sum(v)\n",
    "                # Setting eT\n",
    "                eT = np.ones(32)[np.newaxis]\n",
    "                \n",
    "            # initializing our first guess\n",
    "            x0 = np.ones(32)/32\n",
    "            x0 = x0[np.newaxis]\n",
    "            x0 = x0.T\n",
    "            \n",
    "            # performing the simulation\n",
    "            for i in range(nSims_use):\n",
    "                x0 = alpha_try*np.dot(Pij,x0) + (1-alpha_try)*v\n",
    "            \n",
    "            x0 = np.squeeze(x0)\n",
    "                \n",
    "            # ---------------------- NEW PART OF FUNCTION (ADAPTING x0 to xf) ---------------\n",
    "            \n",
    "            scores_mat = score_bagging(Pij, stats1, namesCols[year_of_data], \\\n",
    "                                       alpha_try, N, Nsims = nSims_use, method = method)\n",
    "            \n",
    "            xf = final_score(scores_mat, x0, beta)\n",
    "            \n",
    "            # -------------------------------------------------------------------------------\n",
    "\n",
    "            # defining the team names\n",
    "            teams = pd.read_csv(filesTeams[year_of_data],index_col=0)\n",
    "            team_names = np.array(teams[\"team_name\"])\n",
    "            \n",
    "            # ordering the team's by their score\n",
    "            mask = np.argsort(np.squeeze(xf))[::-1]\n",
    "            xf_df = np.squeeze(xf[mask])\n",
    "            team_names_df = team_names[mask]\n",
    "            \n",
    "            # forming a data frame\n",
    "            teamrank = {'Team': team_names_df, 'score': xf_df, 'wins': 32*16/2*xf_df}\n",
    "            teamrank_df = pd.DataFrame(data=teamrank)\n",
    "            \n",
    "            output = pd.merge(teamrank_df,\n",
    "                  stats1,\n",
    "                  left_on = \"Team\",\n",
    "                  right_on = \"team\",\n",
    "                  how = \"inner\")\n",
    "\n",
    "            output = pd.merge(output,\n",
    "                  stats2,\n",
    "                  left_on = \"Team\",\n",
    "                  right_on = \"team\",\n",
    "                  how = \"inner\")\n",
    "            \n",
    "            # Figuring out ranks\n",
    "            names = [namesCols[year_of_data],namesCols[year_of_data+1]]\n",
    "            pu, ps, pw, opps = ranking_analyzer(output,names)\n",
    "            \n",
    "            # Storing the results\n",
    "            mc_perc_score += ps\n",
    "            sd_vect[year_of_data] = ps\n",
    "            mc_perc_wins += pw\n",
    "            sd_vect_wins[year_of_data] = pw\n",
    "            \n",
    "            \n",
    "            \n",
    "        # Updating the percentages\n",
    "        score_perc_total[indexer] = mc_perc_score/(len(filesScore) - 1)\n",
    "        score_perc_S2[indexer] = np.std(sd_vect)/np.sqrt(len(filesScore) - 1)\n",
    "        wins_perc_total[indexer] = mc_perc_wins/(len(filesScore) - 1)\n",
    "        wins_perc_S2[indexer] = np.std(sd_vect_wins)/np.sqrt(len(filesScore) - 1)\n",
    "        indexer += 1\n",
    "        sys.stdout.write(\"-\")\n",
    "        sys.stdout.flush()\n",
    "    \n",
    "        \n",
    "    sys.stdout.write(\"\\n\")\n",
    "    return score_perc_total,score_perc_S2,wins_perc_total,wins_perc_S2"
   ]
  },
  {
   "cell_type": "code",
   "execution_count": 13,
   "metadata": {
    "collapsed": true
   },
   "outputs": [],
   "source": [
    "alphas = np.linspace(0.1,.9,20)\n",
    "beta = 1"
   ]
  },
  {
   "cell_type": "code",
   "execution_count": 16,
   "metadata": {},
   "outputs": [
    {
     "name": "stdout",
     "output_type": "stream",
     "text": [
      "[                    --------------------\n"
     ]
    }
   ],
   "source": [
    "sp1, ss1, wp1, ws1 = alpha_optimize_perc_combs(17,alphas,beta,0,filesScore,filesTeams,filesPercs, \\\n",
    "                                               namesCols, N = 1,weighted = False)"
   ]
  },
  {
   "cell_type": "code",
   "execution_count": 17,
   "metadata": {},
   "outputs": [
    {
     "data": {
      "image/png": "[encoded data removed]",
      "text/plain": [
       "<matplotlib.figure.Figure at 0x11ca63d30>"
      ]
     },
     "metadata": {},
     "output_type": "display_data"
    }
   ],
   "source": [
    "plt.figure(figsize=(15,7))\n",
    "plt.plot(alphas, sp1, 'r-', label = r'Year $N$ PageRank Score with uniform $\\gamma$ and unweighted $\\nu$, $N = 1$')\n",
    "plt.plot(alphas, wp1, 'k--', label = r\"Wins in Year $N$\")\n",
    "plt.grid()\n",
    "plt.xlabel(r'1-Teleportation Parameter $\\alpha$')\n",
    "plt.ylabel(\"Percentage of Correct Combinations Predicted\")\n",
    "plt.legend()\n",
    "plt.title(r'$N = 1$, with Week 17 Removed')\n",
    "plt.show()"
   ]
  },
  {
   "cell_type": "code",
   "execution_count": 18,
   "metadata": {},
   "outputs": [
    {
     "name": "stdout",
     "output_type": "stream",
     "text": [
      "[                    --------------------\n"
     ]
    }
   ],
   "source": [
    "sp2, ss2, wp2, ws2 = alpha_optimize_perc_combs(18,alphas,beta,0,filesScore,filesTeams,filesPercs, \\\n",
    "                                               namesCols, N = 1,weighted = False)"
   ]
  },
  {
   "cell_type": "code",
   "execution_count": 19,
   "metadata": {},
   "outputs": [
    {
     "data": {
      "image/png": "[encoded data removed]",
      "text/plain": [
       "<matplotlib.figure.Figure at 0x119781278>"
      ]
     },
     "metadata": {},
     "output_type": "display_data"
    }
   ],
   "source": [
    "plt.figure(figsize=(15,7))\n",
    "plt.plot(alphas, sp1, 'r-', label = r'Year $N$ PageRank Score Without Week 17')\n",
    "plt.plot(alphas, wp1, 'k--', label = r\"Wins in Year $N$\")\n",
    "plt.plot(alphas, sp2, 'b-', label = r'Year $N$ PageRank Score')\n",
    "plt.grid()\n",
    "plt.xlabel(r'1-Teleportation Parameter $\\alpha$')\n",
    "plt.ylabel(\"Percentage of Correct Combinations Predicted\")\n",
    "plt.legend()\n",
    "plt.title(r'$N = 1$')\n",
    "plt.show()"
   ]
  },
  {
   "cell_type": "code",
   "execution_count": 20,
   "metadata": {
    "collapsed": true
   },
   "outputs": [],
   "source": [
    "alphas = np.linspace(0.2,0.6,20)"
   ]
  },
  {
   "cell_type": "code",
   "execution_count": 21,
   "metadata": {},
   "outputs": [
    {
     "name": "stdout",
     "output_type": "stream",
     "text": [
      "[                    --------------------\n"
     ]
    }
   ],
   "source": [
    "sp3, ss3, wp3, ws3 = alpha_optimize_perc_combs(17,alphas,beta,0,filesScore,filesTeams,filesPercs, \\\n",
    "                                               namesCols, N = 2,weighted = False)"
   ]
  },
  {
   "cell_type": "code",
   "execution_count": 22,
   "metadata": {},
   "outputs": [
    {
     "name": "stdout",
     "output_type": "stream",
     "text": [
      "[                    --------------------\n"
     ]
    }
   ],
   "source": [
    "sp4, ss4, wp4, ws4 = alpha_optimize_perc_combs(18,alphas,beta,0,filesScore,filesTeams,filesPercs, \\\n",
    "                                               namesCols, N = 2,weighted = False)"
   ]
  },
  {
   "cell_type": "code",
   "execution_count": 23,
   "metadata": {},
   "outputs": [
    {
     "data": {
      "image/png": "[encoded data removed]",
      "text/plain": [
       "<matplotlib.figure.Figure at 0x11cb12cf8>"
      ]
     },
     "metadata": {},
     "output_type": "display_data"
    }
   ],
   "source": [
    "plt.figure(figsize=(15,7))\n",
    "plt.plot(alphas, sp3, 'r-', label = r'Year $N$ PageRank Score Without Week 17')\n",
    "plt.plot(alphas, wp1, 'k--', label = r\"Wins in Year $N$\")\n",
    "plt.plot(alphas, sp4, 'b-', label = r'Year $N$ PageRank Score')\n",
    "plt.grid()\n",
    "plt.xlabel(r'1-Teleportation Parameter $\\alpha$')\n",
    "plt.ylabel(\"Percentage of Correct Combinations Predicted\")\n",
    "plt.legend()\n",
    "plt.title(r'$N = 2$')\n",
    "plt.show()"
   ]
  },
  {
   "cell_type": "code",
   "execution_count": null,
   "metadata": {
    "collapsed": true
   },
   "outputs": [],
   "source": []
  }
 ],
 "metadata": {
  "kernelspec": {
   "display_name": "Python 3",
   "language": "python",
   "name": "python3"
  },
  "language_info": {
   "codemirror_mode": {
    "name": "ipython",
    "version": 3
   },
   "file_extension": ".py",
   "mimetype": "text/x-python",
   "name": "python",
   "nbconvert_exporter": "python",
   "pygments_lexer": "ipython3",
   "version": "3.6.3"
  }
 },
 "nbformat": 4,
 "nbformat_minor": 2
}
