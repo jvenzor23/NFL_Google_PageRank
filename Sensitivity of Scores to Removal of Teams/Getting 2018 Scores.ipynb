{
 "cells": [
  {
   "cell_type": "code",
   "execution_count": 21,
   "metadata": {
    "collapsed": true
   },
   "outputs": [],
   "source": [
    "import numpy as np\n",
    "import pandas as pd\n",
    "from itertools import combinations\n",
    "import matplotlib.pyplot as plt\n",
    "%matplotlib inline\n",
    "import scipy as sc\n",
    "import time\n",
    "import sys"
   ]
  },
  {
   "cell_type": "code",
   "execution_count": 22,
   "metadata": {
    "collapsed": true
   },
   "outputs": [],
   "source": [
    "def score_bagging(Pij, stats1, namesCols, alpha, N, Nsims = 2500, method = 0):\n",
    "    \n",
    "    if N == 0:\n",
    "        Pij_group = Pij\n",
    "        teamnum = np.arange(32)\n",
    "        if method == 0:\n",
    "            # making the teleporting probabilities uniform\n",
    "            v = np.ones(len(teamnum)-N)/(len(teamnum)-N)\n",
    "            v = v[np.newaxis]\n",
    "            v = v.T\n",
    "            # Setting alpha\n",
    "            alpha = alpha\n",
    "            # Setting eT\n",
    "            eT = np.ones(len(teamnum)-N)[np.newaxis]   \n",
    "        else:\n",
    "            # making the teleporting probabilities proportional to\n",
    "            # the teams winning percentages\n",
    "            v = np.array(stats1[namesCols])\n",
    "            v = np.delete(v, group)\n",
    "            v = v[np.newaxis]\n",
    "            v = v.T\n",
    "            v = v/np.sum(v)\n",
    "            # Setting alpha\n",
    "            alpha = alpha\n",
    "            # Setting eT\n",
    "            eT = np.ones(len(teamnum)-N)[np.newaxis]\n",
    "                \n",
    "        # initializing our first guess\n",
    "        x0 = np.ones(len(teamnum)-N)/len(teamnum)-N\n",
    "        x0 = x0[np.newaxis]\n",
    "        x0 = x0.T\n",
    "            \n",
    "        # performing the simulation (so our scores are stored in x0)\n",
    "        for i in range(Nsims):\n",
    "            x0 = alpha*np.dot(Pij_group,x0) + (1-alpha)*v\n",
    "        return x0\n",
    "        \n",
    "    \n",
    "    # setting a vector to contain each of the 32 team numbers\n",
    "    teamnum = np.arange(32)\n",
    "    # Getting the possible combinations of this to use\n",
    "    combs = list(combinations(teamnum, N))\n",
    "    ncombs = len(combs)\n",
    "    # initializing a matrix to store each of these values\n",
    "    scores = np.zeros((len(teamnum),ncombs))\n",
    "    # We iterate over all of these combinations, each time computing a final score vector\n",
    "    for counter, group in enumerate(combs):\n",
    "        # Adjusting Pij (first deleting the specified rows, then columns)\n",
    "        Pij_group = np.delete(Pij,group,axis = 0)\n",
    "        Pij_group = np.delete(Pij_group,group,axis = 1)\n",
    "        \n",
    "        # Ensuring Pij has no zero columns\n",
    "        if len(np.where(Pij_group.sum(axis = 0) == 0)[0]) > 0:\n",
    "                empty_vect = np.where(Pij_group.sum(axis = 0) == 0)[0]\n",
    "                for iCnt in range(len(empty_vect)):\n",
    "                    Pij_group[empty_vect[iCnt],empty_vect[iCnt]] = 1\n",
    "        \n",
    "        # -----------Getting the Scores (FROM PREVIOUS CODE)------------------------\n",
    "        # If we want the teleportation probabilties unifrom,\n",
    "        # or based on team winning perc\n",
    "        if method == 0:\n",
    "            # making the teleporting probabilities uniform\n",
    "            v = np.ones(len(teamnum)-N)/(len(teamnum)-N)\n",
    "            v = v[np.newaxis]\n",
    "            v = v.T\n",
    "            # Setting alpha\n",
    "            alpha = alpha\n",
    "            # Setting eT\n",
    "            eT = np.ones(len(teamnum)-N)[np.newaxis]   \n",
    "        else:\n",
    "            # making the teleporting probabilities proportional to\n",
    "            # the teams winning percentages\n",
    "            v = np.array(stats1[namesCols])\n",
    "            v = np.delete(v, group)\n",
    "            v = v[np.newaxis]\n",
    "            v = v.T\n",
    "            v = v/np.sum(v)\n",
    "            # Setting alpha\n",
    "            alpha = alpha\n",
    "            # Setting eT\n",
    "            eT = np.ones(len(teamnum)-N)[np.newaxis]\n",
    "                \n",
    "        # initializing our first guess\n",
    "        x0 = np.ones(len(teamnum)-N)/len(teamnum)-N\n",
    "        x0 = x0[np.newaxis]\n",
    "        x0 = x0.T\n",
    "            \n",
    "        # performing the simulation (so our scores are stored in x0)\n",
    "        for i in range(Nsims):\n",
    "            x0 = alpha*np.dot(Pij_group,x0) + (1-alpha)*v\n",
    "\n",
    "        # ---------------------- (END OF PREVIOUS CODE) ------------------------\n",
    "        # getting a vector of the values of the teams computed\n",
    "        kept_vect = np.delete(teamnum,group)\n",
    "        # Updating the matrix\n",
    "        scores[kept_vect,counter] = np.squeeze(x0)\n",
    "    return scores    "
   ]
  },
  {
   "cell_type": "code",
   "execution_count": 23,
   "metadata": {
    "collapsed": true
   },
   "outputs": [],
   "source": [
    "def final_score(S, x_bar, beta):\n",
    "    # getting the minimum vector\n",
    "    min_vect = np.zeros(32)\n",
    "    # computing the minimums\n",
    "    for iCnt in range(len(min_vect)):\n",
    "        # accounting for winless teams\n",
    "        if len(S[iCnt,np.nonzero(S[iCnt,])[0]]) == 0:\n",
    "            min_vect[iCnt] = 0\n",
    "        else:\n",
    "            min_vect[iCnt] =  np.min(S[iCnt,np.nonzero(S[iCnt,])[0]])\n",
    "    # normalizing the minimum vector\n",
    "    min_vect = min_vect/np.sum(min_vect)\n",
    "    # computing x\n",
    "    x = (1-beta)*x_bar + beta*min_vect\n",
    "    # normalizing x\n",
    "    x = x/np.sum(x)\n",
    "    # returning the value\n",
    "    return np.squeeze(x)"
   ]
  },
  {
   "cell_type": "code",
   "execution_count": 24,
   "metadata": {},
   "outputs": [],
   "source": [
    "# reading in the data\n",
    "data = pd.read_csv(\"Pij_2017.csv\",index_col=0)\n",
    "stats1 = 1\n",
    "beta = 1\n",
    "alpha = 0.4\n",
    "\n",
    "# converting to a numpy array\n",
    "data2 = np.array(data)\n",
    "            \n",
    "data2[data2!=0] = 1\n",
    "            \n",
    "# making the Pij matrix\n",
    "Pij = data2/data2.sum(axis=0)\n",
    "            \n",
    "# If we want the teleportation probabilties unifrom,\n",
    "# or based on team winning perc\n",
    "\n",
    "# making the teleporting probabilities uniform\n",
    "v = np.ones(32)/32\n",
    "v = v[np.newaxis]\n",
    "v = v.T\n",
    "# Setting eT\n",
    "eT = np.ones(32)[np.newaxis]   \n",
    "\n",
    "                \n",
    "# initializing our first guess\n",
    "x0 = np.ones(32)/32\n",
    "x0 = x0[np.newaxis]\n",
    "x0 = x0.T\n",
    "            \n",
    "# performing the simulation\n",
    "for i in range(5000):\n",
    "    x0 = alpha*np.dot(Pij,x0) + (1-alpha)*v\n",
    "            \n",
    "x0 = np.squeeze(x0)\n",
    "                \n",
    "# ---------------------- NEW PART OF FUNCTION (ADAPTING x0 to xf) ---------------\n",
    "            \n",
    "scores_mat = score_bagging(Pij, stats1, \"2018_win_perc\", \\\n",
    "                            alpha, N = 2, Nsims = 5000)\n",
    "            \n",
    "xf = final_score(scores_mat, x0, beta)"
   ]
  },
  {
   "cell_type": "code",
   "execution_count": 25,
   "metadata": {},
   "outputs": [
    {
     "name": "stdout",
     "output_type": "stream",
     "text": [
      "[ 0.04158907  0.03036147  0.02980084  0.03163646  0.02778981  0.02864413\n",
      "  0.02382135  0.02878312  0.025713    0.03660149  0.03054859  0.02910292\n",
      "  0.0304025   0.03920452  0.02514368  0.03186547  0.02530375  0.03835376\n",
      "  0.03841194  0.03469799  0.03415085  0.02590674  0.03706601  0.0275033\n",
      "  0.03219632  0.03008609  0.03462563  0.02496513  0.04041797  0.0283015\n",
      "  0.02948851  0.0275161 ]\n"
     ]
    }
   ],
   "source": [
    "print(xf)"
   ]
  },
  {
   "cell_type": "code",
   "execution_count": 26,
   "metadata": {},
   "outputs": [
    {
     "name": "stdout",
     "output_type": "stream",
     "text": [
      "['NE' 'BUF' 'WAS' 'TEN' 'HOU' 'DET' 'CLE' 'CHI' 'CIN' 'LA' 'SF' 'GB' 'DAL'\n",
      " 'MIN' 'DEN' 'BAL' 'TB' 'PIT' 'NO' 'KC' 'JAX' 'IND' 'CAR' 'OAK' 'LAC' 'SEA'\n",
      " 'ATL' 'NYG' 'PHI' 'NYJ' 'ARI' 'MIA']\n"
     ]
    }
   ],
   "source": [
    "teams = pd.read_csv('teams_2017.csv',index_col=0)\n",
    "team_names = np.array(teams[\"team_name\"])\n",
    "print(team_names)"
   ]
  },
  {
   "cell_type": "code",
   "execution_count": 27,
   "metadata": {},
   "outputs": [
    {
     "name": "stdout",
     "output_type": "stream",
     "text": [
      "   Team     score       wins\n",
      "0    NE  0.041589  10.646803\n",
      "28  PHI  0.040418  10.347001\n",
      "13  MIN  0.039205  10.036358\n",
      "18   NO  0.038412   9.833457\n",
      "17  PIT  0.038354   9.818563\n",
      "22  CAR  0.037066   9.488899\n",
      "9    LA  0.036601   9.369980\n",
      "19   KC  0.034698   8.882685\n",
      "26  ATL  0.034626   8.864162\n",
      "20  JAX  0.034151   8.742617\n",
      "24  LAC  0.032196   8.242257\n",
      "15  BAL  0.031865   8.157559\n",
      "3   TEN  0.031636   8.098933\n",
      "10   SF  0.030549   7.820438\n",
      "12  DAL  0.030402   7.783039\n",
      "1   BUF  0.030361   7.772537\n",
      "25  SEA  0.030086   7.702039\n",
      "2   WAS  0.029801   7.629016\n",
      "30  ARI  0.029489   7.549058\n",
      "11   GB  0.029103   7.450348\n",
      "7   CHI  0.028783   7.368479\n",
      "5   DET  0.028644   7.332898\n",
      "29  NYJ  0.028302   7.245185\n",
      "4   HOU  0.027790   7.114191\n",
      "31  MIA  0.027516   7.044122\n",
      "23  OAK  0.027503   7.040844\n",
      "21  IND  0.025907   6.632126\n",
      "8   CIN  0.025713   6.582528\n",
      "16   TB  0.025304   6.477759\n",
      "14  DEN  0.025144   6.436781\n",
      "27  NYG  0.024965   6.391073\n",
      "6   CLE  0.023821   6.098266\n"
     ]
    }
   ],
   "source": [
    "teamrank = {'Team': team_names, 'score': xf, 'wins': 32*16/2*xf}\n",
    "teamrank_df = pd.DataFrame(data=teamrank)\n",
    "teamrank_df = teamrank_df.sort_values(by=['score'], ascending = False)\n",
    "print(teamrank_df)"
   ]
  },
  {
   "cell_type": "code",
   "execution_count": null,
   "metadata": {
    "collapsed": true
   },
   "outputs": [],
   "source": []
  }
 ],
 "metadata": {
  "kernelspec": {
   "display_name": "Python 3",
   "language": "python",
   "name": "python3"
  },
  "language_info": {
   "codemirror_mode": {
    "name": "ipython",
    "version": 3
   },
   "file_extension": ".py",
   "mimetype": "text/x-python",
   "name": "python",
   "nbconvert_exporter": "python",
   "pygments_lexer": "ipython3",
   "version": "3.6.3"
  }
 },
 "nbformat": 4,
 "nbformat_minor": 2
}
