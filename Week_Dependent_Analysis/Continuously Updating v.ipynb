{
 "cells": [
  {
   "cell_type": "code",
   "execution_count": 38,
   "metadata": {
    "collapsed": true
   },
   "outputs": [],
   "source": [
    "import numpy as np\n",
    "import pandas as pd\n",
    "from itertools import combinations\n",
    "import matplotlib.pyplot as plt\n",
    "%matplotlib inline\n",
    "import scipy as sc\n",
    "import time\n",
    "import sys"
   ]
  },
  {
   "cell_type": "code",
   "execution_count": 39,
   "metadata": {},
   "outputs": [
    {
     "name": "stdout",
     "output_type": "stream",
     "text": [
      "   winning_team  losing_team  diff_abs  week\n",
      "1             1           18       3.5     1\n",
      "2             2           24      41.5     1\n",
      "3            22            9       2.5     1\n",
      "4            17            8      12.5     1\n",
      "5             7           20       4.5     1\n",
      "(256, 4)\n"
     ]
    }
   ],
   "source": [
    "data = pd.read_csv('week_data_2018.csv',index_col=0)\n",
    "data = data.drop(['game_id', 'home_team'], axis=1)\n",
    "data_plt = np.array(data)\n",
    "print(data.head())\n",
    "print(np.shape(data))"
   ]
  },
  {
   "cell_type": "code",
   "execution_count": 40,
   "metadata": {},
   "outputs": [],
   "source": [
    "def week_UB_Pij(data, weekub, method, weighted = True):\n",
    "    \n",
    "    # Getting the Data in the right form\n",
    "    data = data.drop(['game_id', 'home_team'], axis=1)\n",
    "    if method == \"less\":\n",
    "        # IF METHOD IS WEEKS LESS THAN:\n",
    "        data[\"week\"] = data[data[\"week\"] < weekub][\"week\"]\n",
    "    if method == \"equal\":\n",
    "        # IF METHOD IS GETTING THE EXACT WEEK\n",
    "        data[\"week\"] = data[data[\"week\"] == weekub][\"week\"]\n",
    "    if method == \"between\":\n",
    "        # If METHOD IS BETWEEN (WITH CONTAINMENT ON THE UPPER END)\n",
    "        data[\"week\"] = data[np.logical_and(data[\"week\"] > weekub[0],data[\"week\"] <= weekub[1])][\"week\"]\n",
    "    data = data.dropna()\n",
    "    data = data.drop(\"week\", axis = 1)\n",
    "    data_np = np.array(data)\n",
    "    \n",
    "    Pij = np.zeros((32,32))\n",
    "    \n",
    "    # Computing the Pij Matrix\n",
    "    for iCnt in range(np.shape(data_np)[0]):\n",
    "        winner = int(data_np[iCnt,0])-1\n",
    "        loser =  int(data_np[iCnt,1])-1\n",
    "        # checking if an interdivisional game has occurred\n",
    "        if (Pij[loser,winner] == 0) & (Pij[winner,loser] == 0):\n",
    "            Pij[winner,loser] = data_np[iCnt,2]\n",
    "        # when the other team had won the first game\n",
    "        elif (Pij[loser,winner] > 0):\n",
    "            if (Pij[loser,winner] > data_np[iCnt,2]):\n",
    "                Pij[loser,winner] = (Pij[loser,winner] - data_np[iCnt,2])/2\n",
    "            else: \n",
    "                Pij[winner,loser] = -(Pij[loser,winner] - data_np[iCnt,2])/2\n",
    "                Pij[loser,winner] = 0\n",
    "        # when the same team won the first game\n",
    "        else: \n",
    "            Pij[winner,loser] = (Pij[winner,loser] + data_np[iCnt,2])/2\n",
    "            \n",
    "    if(weighted == False):\n",
    "                Pij[Pij!=0] = 1\n",
    "            \n",
    "    # making sure none of the columns sum to 0\n",
    "    if len(np.where(Pij.sum(axis = 0) == 0)[0]) > 0:\n",
    "        empty_vect = np.where(Pij.sum(axis = 0) == 0)[0]\n",
    "        for iCnt in range(len(empty_vect)):\n",
    "            Pij[empty_vect[iCnt],empty_vect[iCnt]] = 1\n",
    "    \n",
    "    # making the Pij matrix\n",
    "    Pij = Pij/Pij.sum(axis=0)\n",
    "        \n",
    "    # returning the Pij Matrix\n",
    "    return Pij"
   ]
  },
  {
   "cell_type": "markdown",
   "metadata": {},
   "source": [
    "# Determining Which Weeks to Iterate Over"
   ]
  },
  {
   "cell_type": "code",
   "execution_count": 101,
   "metadata": {
    "collapsed": true
   },
   "outputs": [],
   "source": [
    "blocks = [0,1,2,3,4,5,6,7,8,9,10,11,12,13,14,15,16]\n",
    "data = pd.read_csv('week_data_2018.csv',index_col=0)\n",
    "alpha = 0.1"
   ]
  },
  {
   "cell_type": "markdown",
   "metadata": {},
   "source": [
    "# Computing the Scores"
   ]
  },
  {
   "cell_type": "code",
   "execution_count": 102,
   "metadata": {},
   "outputs": [],
   "source": [
    "# making the teleporting probabilities uniform TO START\n",
    "v = np.ones(32)/32\n",
    "v = v[np.newaxis]\n",
    "v = v.T\n",
    "\n",
    "\n",
    "for iCnt in range(len(blocks)-1):\n",
    "    # setting the weeks to look at\n",
    "    weekub = [blocks[iCnt],blocks[iCnt+1]]\n",
    "    \n",
    "    # setting Pij\n",
    "    Pij = week_UB_Pij(data, weekub, method = \"between\", weighted = True)\n",
    "    # If we want the teleportation probabilties unifrom,\n",
    "    # or based on team winning perc\n",
    "                \n",
    "    # initializing our first guess\n",
    "    x0 = np.ones(32)/32\n",
    "    x0 = x0[np.newaxis]\n",
    "    x0 = x0.T\n",
    "            \n",
    "    # performing the simulation\n",
    "    for i in range(5000):\n",
    "        x0 = alpha*np.dot(Pij,x0) + (1-alpha)*v\n",
    "        \n",
    "    v = x0\n",
    "\n",
    "    \n",
    "scores = np.squeeze(x0)\n",
    "         \n",
    "    \n",
    "    "
   ]
  },
  {
   "cell_type": "code",
   "execution_count": 103,
   "metadata": {},
   "outputs": [
    {
     "name": "stdout",
     "output_type": "stream",
     "text": [
      "['PHI' 'BAL' 'NYG' 'NO' 'NE' 'MIN' 'MIA' 'IND' 'CLE' 'LAC' 'DEN' 'CAR'\n",
      " 'ARI' 'GB' 'DET' 'OAK' 'CIN' 'ATL' 'WAS' 'TEN' 'TB' 'PIT' 'NYJ' 'BUF' 'SF'\n",
      " 'LA' 'JAX' 'DAL' 'CHI' 'HOU' 'KC' 'SEA']\n"
     ]
    }
   ],
   "source": [
    "teams = pd.read_csv('teams_2018.csv',index_col=0)\n",
    "team_names = np.array(teams[\"team_name\"])\n",
    "print(team_names)"
   ]
  },
  {
   "cell_type": "code",
   "execution_count": 104,
   "metadata": {},
   "outputs": [
    {
     "name": "stdout",
     "output_type": "stream",
     "text": [
      "[ 0.02691708  0.03881545  0.02104008  0.06493293  0.0480177   0.03483686\n",
      "  0.02078921  0.0367972   0.03321659  0.04371973  0.02117981  0.02179533\n",
      "  0.0126884   0.02361179  0.02093287  0.0183264   0.01731072  0.02280294\n",
      "  0.02064719  0.04698229  0.02534928  0.03728661  0.01428251  0.01283474\n",
      "  0.0181206   0.03551699  0.01941356  0.0424238   0.05913507  0.04906654\n",
      "  0.05062677  0.04058296]\n"
     ]
    }
   ],
   "source": [
    "print(scores)"
   ]
  },
  {
   "cell_type": "code",
   "execution_count": 105,
   "metadata": {},
   "outputs": [
    {
     "name": "stdout",
     "output_type": "stream",
     "text": [
      "   Team     score       wins\n",
      "3    NO  0.064933  16.622830\n",
      "28  CHI  0.059135  15.138577\n",
      "30   KC  0.050627  12.960454\n",
      "29  HOU  0.049067  12.561035\n",
      "4    NE  0.048018  12.292531\n",
      "19  TEN  0.046982  12.027466\n",
      "9   LAC  0.043720  11.192250\n",
      "27  DAL  0.042424  10.860492\n",
      "31  SEA  0.040583  10.389237\n",
      "1   BAL  0.038815   9.936754\n",
      "21  PIT  0.037287   9.545371\n",
      "7   IND  0.036797   9.420083\n",
      "25   LA  0.035517   9.092349\n",
      "5   MIN  0.034837   8.918235\n",
      "8   CLE  0.033217   8.503448\n",
      "0   PHI  0.026917   6.890772\n",
      "20   TB  0.025349   6.489416\n",
      "13   GB  0.023612   6.044618\n",
      "17  ATL  0.022803   5.837554\n",
      "11  CAR  0.021795   5.579604\n",
      "10  DEN  0.021180   5.422032\n",
      "2   NYG  0.021040   5.386261\n",
      "14  DET  0.020933   5.358815\n",
      "6   MIA  0.020789   5.322039\n",
      "18  WAS  0.020647   5.285680\n",
      "26  JAX  0.019414   4.969872\n",
      "15  OAK  0.018326   4.691559\n",
      "24   SF  0.018121   4.638874\n",
      "16  CIN  0.017311   4.431545\n",
      "22  NYJ  0.014283   3.656323\n",
      "23  BUF  0.012835   3.285695\n",
      "12  ARI  0.012688   3.248231\n"
     ]
    }
   ],
   "source": [
    "teamrank = {'Team': team_names, 'score': scores, 'wins': 32*16/2*scores}\n",
    "teamrank_df = pd.DataFrame(data=teamrank)\n",
    "teamrank_df = teamrank_df.sort_values(by=['score'], ascending = False)\n",
    "print(teamrank_df)"
   ]
  },
  {
   "cell_type": "code",
   "execution_count": null,
   "metadata": {
    "collapsed": true
   },
   "outputs": [],
   "source": []
  }
 ],
 "metadata": {
  "kernelspec": {
   "display_name": "Python 3",
   "language": "python",
   "name": "python3"
  },
  "language_info": {
   "codemirror_mode": {
    "name": "ipython",
    "version": 3
   },
   "file_extension": ".py",
   "mimetype": "text/x-python",
   "name": "python",
   "nbconvert_exporter": "python",
   "pygments_lexer": "ipython3",
   "version": "3.6.3"
  }
 },
 "nbformat": 4,
 "nbformat_minor": 2
}
