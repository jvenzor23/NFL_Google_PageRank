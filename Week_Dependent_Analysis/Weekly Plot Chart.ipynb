{
 "cells": [
  {
   "cell_type": "code",
   "execution_count": 8,
   "metadata": {},
   "outputs": [
    {
     "name": "stdout",
     "output_type": "stream",
     "text": [
      "/Users/James/Desktop/Eigth Semester/Stochastic Modelling/NFL_Project/Week Dependent Analysis\n"
     ]
    }
   ],
   "source": [
    "import numpy as np\n",
    "import pandas as pd\n",
    "from itertools import combinations\n",
    "import matplotlib.pyplot as plt\n",
    "%matplotlib inline\n",
    "import scipy as sc\n",
    "import time\n",
    "import sys\n",
    "%cd /Users/James/Desktop/Eigth Semester/Stochastic Modelling/NFL_Project/Week Dependent Analysis"
   ]
  },
  {
   "cell_type": "code",
   "execution_count": 9,
   "metadata": {},
   "outputs": [
    {
     "name": "stdout",
     "output_type": "stream",
     "text": [
      "   winning_team  losing_team  diff_abs  week\n",
      "1             1           18       3.5     1\n",
      "2             2           24      41.5     1\n",
      "3            22            9       2.5     1\n",
      "4            17            8      12.5     1\n",
      "5             7           20       4.5     1\n",
      "(256, 4)\n"
     ]
    }
   ],
   "source": [
    "data = pd.read_csv('week_data_2018.csv',index_col=0)\n",
    "data = data.drop(['game_id', 'home_team'], axis=1)\n",
    "data_plt = np.array(data)\n",
    "print(data.head())\n",
    "print(np.shape(data))"
   ]
  },
  {
   "cell_type": "code",
   "execution_count": 10,
   "metadata": {},
   "outputs": [
    {
     "name": "stdout",
     "output_type": "stream",
     "text": [
      "(224, 3)\n"
     ]
    }
   ],
   "source": [
    "# filtering out games after a certain week (here, all weeks less than 10)\n",
    "data[\"week\"] = data[data[\"week\"] < 16][\"week\"]\n",
    "data = data.dropna()\n",
    "data = data.drop(\"week\", axis = 1)\n",
    "print(np.shape(data))"
   ]
  },
  {
   "cell_type": "code",
   "execution_count": 11,
   "metadata": {
    "collapsed": true,
    "scrolled": false
   },
   "outputs": [],
   "source": [
    "data_np = np.array(data)"
   ]
  },
  {
   "cell_type": "markdown",
   "metadata": {},
   "source": [
    "## Creating the Pij Matrix"
   ]
  },
  {
   "cell_type": "code",
   "execution_count": 12,
   "metadata": {
    "collapsed": true
   },
   "outputs": [],
   "source": [
    "Pij = np.zeros((32,32))"
   ]
  },
  {
   "cell_type": "code",
   "execution_count": 13,
   "metadata": {
    "collapsed": true
   },
   "outputs": [],
   "source": [
    "for iCnt in range(np.shape(data_np)[0]):\n",
    "    winner = int(data_np[iCnt,0])-1\n",
    "    loser =  int(data_np[iCnt,1])-1\n",
    "    # checking if an interdivisional game has occurred\n",
    "    if (Pij[loser,winner] == 0) & (Pij[winner,loser] == 0):\n",
    "        Pij[winner,loser] = data_np[iCnt,2]\n",
    "    # when the other team had won the first game\n",
    "    elif (Pij[loser,winner] > 0):\n",
    "        if (Pij[loser,winner] > data_np[iCnt,2]):\n",
    "            Pij[loser,winner] = (Pij[loser,winner] - data_np[iCnt,2])/2\n",
    "        else: \n",
    "            Pij[winner,loser] = -(Pij[loser,winner] - data_np[iCnt,2])/2\n",
    "            Pij[loser,winner] = 0\n",
    "    # when the same team won the first game\n",
    "    else: \n",
    "        Pij[winner,loser] = (Pij[winner,loser] + data_np[iCnt,2])/2"
   ]
  },
  {
   "cell_type": "markdown",
   "metadata": {},
   "source": [
    "# Making the Function"
   ]
  },
  {
   "cell_type": "code",
   "execution_count": 14,
   "metadata": {
    "collapsed": true
   },
   "outputs": [],
   "source": [
    "def week_UB_Pij(data, weekub, method, weighted = True):\n",
    "    \n",
    "    # Getting the Data in the right form\n",
    "    data = data.drop(['game_id', 'home_team'], axis=1)\n",
    "    if method == \"less\":\n",
    "        # IF METHOD IS WEEKS LESS THAN:\n",
    "        data[\"week\"] = data[data[\"week\"] < weekub][\"week\"]\n",
    "    if method == \"equal\":\n",
    "        # If METHOD IS GETTING THE EXACT WEEK\n",
    "        data[\"week\"] = data[data[\"week\"] == weekub][\"week\"]\n",
    "    data = data.dropna()\n",
    "    data = data.drop(\"week\", axis = 1)\n",
    "    data_np = np.array(data)\n",
    "    \n",
    "    Pij = np.zeros((32,32))\n",
    "    \n",
    "    # Computing the Pij Matrix\n",
    "    for iCnt in range(np.shape(data_np)[0]):\n",
    "        winner = int(data_np[iCnt,0])-1\n",
    "        loser =  int(data_np[iCnt,1])-1\n",
    "        # checking if an interdivisional game has occurred\n",
    "        if (Pij[loser,winner] == 0) & (Pij[winner,loser] == 0):\n",
    "            Pij[winner,loser] = data_np[iCnt,2]\n",
    "        # when the other team had won the first game\n",
    "        elif (Pij[loser,winner] > 0):\n",
    "            if (Pij[loser,winner] > data_np[iCnt,2]):\n",
    "                Pij[loser,winner] = (Pij[loser,winner] - data_np[iCnt,2])/2\n",
    "            else: \n",
    "                Pij[winner,loser] = -(Pij[loser,winner] - data_np[iCnt,2])/2\n",
    "                Pij[loser,winner] = 0\n",
    "        # when the same team won the first game\n",
    "        else: \n",
    "            Pij[winner,loser] = (Pij[winner,loser] + data_np[iCnt,2])/2\n",
    "            \n",
    "    if(weighted == False):\n",
    "                Pij[Pij!=0] = 1\n",
    "            \n",
    "    # making sure none of the columns sum to 0\n",
    "    if len(np.where(Pij.sum(axis = 0) == 0)[0]) > 0:\n",
    "        empty_vect = np.where(Pij.sum(axis = 0) == 0)[0]\n",
    "        for iCnt in range(len(empty_vect)):\n",
    "            Pij[empty_vect[iCnt],empty_vect[iCnt]] = 1\n",
    "    \n",
    "    # making the Pij matrix\n",
    "    Pij = Pij/Pij.sum(axis=0)\n",
    "        \n",
    "    # returning the Pij Matrix\n",
    "    return Pij"
   ]
  },
  {
   "cell_type": "code",
   "execution_count": 15,
   "metadata": {
    "collapsed": true
   },
   "outputs": [],
   "source": [
    "data = pd.read_csv('week_data_2018.csv',index_col=0)\n",
    "Pij = week_UB_Pij(data, 16, method = \"less\")"
   ]
  },
  {
   "cell_type": "markdown",
   "metadata": {},
   "source": [
    "# Determining Scores (FOR DESCRIPTIVE PURPOSES ONLY)"
   ]
  },
  {
   "cell_type": "code",
   "execution_count": 16,
   "metadata": {
    "collapsed": true
   },
   "outputs": [],
   "source": [
    "num_weeks = 17\n",
    "scores_mat = np.zeros((32,num_weeks))\n",
    "for iCnt in range(num_weeks):\n",
    "    Pij_new = week_UB_Pij(data, iCnt + 2, method = \"less\")\n",
    "    \n",
    "    # making the teleporting probabilities uniform\n",
    "    v = np.ones(32)/32\n",
    "    v = v[np.newaxis]\n",
    "    v = v.T\n",
    "    # Setting eT\n",
    "    eT = np.ones(32)[np.newaxis]\n",
    "    # initializing our first guess\n",
    "    x0 = np.ones(32)/32\n",
    "    x0 = x0[np.newaxis]\n",
    "    x0 = x0.T\n",
    "            \n",
    "    # performing the simulation\n",
    "    for i in range(5000):\n",
    "        x0 = .5*np.dot(Pij_new,x0) + (1-.5)*v\n",
    "            \n",
    "    x0 = np.squeeze(x0)\n",
    "    \n",
    "    # updating the scores matrix\n",
    "    scores_mat[0:32,iCnt] = x0"
   ]
  },
  {
   "cell_type": "markdown",
   "metadata": {},
   "source": [
    "# Figuring Out the Teams That were Played at What Week"
   ]
  },
  {
   "cell_type": "code",
   "execution_count": 17,
   "metadata": {},
   "outputs": [
    {
     "name": "stdout",
     "output_type": "stream",
     "text": [
      "['PHI' 'BAL' 'NYG' 'NO' 'NE' 'MIN' 'MIA' 'IND' 'CLE' 'LAC' 'DEN' 'CAR'\n",
      " 'ARI' 'GB' 'DET' 'OAK' 'CIN' 'ATL' 'WAS' 'TEN' 'TB' 'PIT' 'NYJ' 'BUF' 'SF'\n",
      " 'LA' 'JAX' 'DAL' 'CHI' 'HOU' 'KC' 'SEA']\n",
      "['PIT' 'NO' 'NYJ' 'OAK' 'BAL' 'LAC' 'TB' 'PIT' 'KC' 'ATL' 'BYE' 'CIN' 'HOU'\n",
      " 'CAR' 'DEN' 'CIN' 'BAL']\n"
     ]
    }
   ],
   "source": [
    "teams = pd.read_csv('teams_2018.csv',index_col=0)\n",
    "team_names = np.array(teams[\"team_name\"])\n",
    "team_opps = [''] * 17;\n",
    "team = 8\n",
    "\n",
    "print(team_names)\n",
    "\n",
    "for iCnt in range(np.shape(data_plt)[0]):\n",
    "    if data_plt[iCnt,0] == team  + 1:\n",
    "        team_opps[int(data_plt[iCnt,3])-1] = team_names[int(data_plt[iCnt,1])-1]\n",
    "    if data_plt[iCnt,1] == team + 1:\n",
    "        team_opps[int(data_plt[iCnt,3])-1] = team_names[int(data_plt[iCnt,0])-1]\n",
    "    \n",
    "team_opps = np.array(team_opps)\n",
    "team_opps[team_opps == ''] = \"BYE\"\n",
    "print(team_opps)"
   ]
  },
  {
   "cell_type": "code",
   "execution_count": 30,
   "metadata": {
    "collapsed": true
   },
   "outputs": [],
   "source": [
    "teams = pd.read_csv('teams_2018.csv',index_col=0)\n",
    "\n",
    "def team_plotter(scores_mat, teams, team, display_opps = False):\n",
    "    \n",
    "    team_names = np.array(teams[\"team_name\"])\n",
    "    # getting the labels ---------\n",
    "    team_opps = [''] * 17\n",
    "    for iCnt in range(np.shape(data_plt)[0]):\n",
    "        if data_plt[iCnt,0] == team  + 1:\n",
    "            team_opps[int(data_plt[iCnt,3])-1] = team_names[int(data_plt[iCnt,1])-1]\n",
    "        if data_plt[iCnt,1] == team + 1:\n",
    "            team_opps[int(data_plt[iCnt,3])-1] = team_names[int(data_plt[iCnt,0])-1]\n",
    "    \n",
    "    team_opps = np.array(team_opps)\n",
    "    team_opps[team_opps == ''] = \"BYE\"\n",
    "    # ------------------------------\n",
    "   \n",
    "\n",
    "    plt.figure(figsize=(15,7))\n",
    "    plt.plot(np.arange(17)+1, scores_mat[team,],'bo-')\n",
    "    plt.grid()\n",
    "    plt.xlabel('Week of NFL Season')\n",
    "    plt.ylabel('PageRank Score')\n",
    "    plt.ylim(0,0.1)\n",
    "    plt.title(\"Scores for %s\" %team_names[team])\n",
    "    \n",
    "    # adding the annotation ---------\n",
    "    if display_opps == True:\n",
    "        for label, x, y in zip(team_opps, np.arange(17)+1 , scores_mat[team,]):\n",
    "            plt.annotate(\n",
    "                label,\n",
    "                xy=(x, y), xytext=(0, 30),\n",
    "                textcoords='offset points', va='bottom',\n",
    "                bbox=dict(boxstyle='round,pad=.5', fc='red', alpha=0.25),\n",
    "                arrowprops=dict(arrowstyle = '->', connectionstyle='arc3,rad=0'))\n",
    "    # --------------\n",
    "\n",
    "    plt.show()\n",
    "    \n",
    "    "
   ]
  },
  {
   "cell_type": "code",
   "execution_count": 27,
   "metadata": {
    "collapsed": true
   },
   "outputs": [],
   "source": [
    "from __future__ import print_function\n",
    "from ipywidgets import interact, interactive, fixed, interact_manual\n",
    "import ipywidgets as widgets"
   ]
  },
  {
   "cell_type": "code",
   "execution_count": 28,
   "metadata": {
    "collapsed": true
   },
   "outputs": [],
   "source": [
    "names_list = []\n",
    "team_names = np.array(teams[\"team_name\"])\n",
    "for iCnt in range(32):\n",
    "    names_list.append((team_names[iCnt], iCnt))\n",
    "names_list.sort()"
   ]
  },
  {
   "cell_type": "code",
   "execution_count": 31,
   "metadata": {},
   "outputs": [
    {
     "data": {
      "application/vnd.jupyter.widget-view+json": {
       "model_id": "7fe2193e8fad4e2dbe48b4b8e230e6ff",
       "version_major": 2,
       "version_minor": 0
      },
      "text/plain": [
       "A Jupyter Widget"
      ]
     },
     "metadata": {},
     "output_type": "display_data"
    },
    {
     "data": {
      "text/plain": [
       "<function __main__.team_plotter>"
      ]
     },
     "execution_count": 31,
     "metadata": {},
     "output_type": "execute_result"
    }
   ],
   "source": [
    "interact(team_plotter,scores_mat =fixed(scores_mat), teams = fixed(teams), \\\n",
    "         team = names_list)"
   ]
  },
  {
   "cell_type": "code",
   "execution_count": 525,
   "metadata": {
    "collapsed": true
   },
   "outputs": [],
   "source": [
    "P = np.array([[0,.5,1,1],[.5,0,0,0],[.5,.5,0,0],[0,0,0,0]])"
   ]
  },
  {
   "cell_type": "code",
   "execution_count": 553,
   "metadata": {
    "collapsed": true
   },
   "outputs": [],
   "source": [
    "alpha = .5"
   ]
  },
  {
   "cell_type": "code",
   "execution_count": 554,
   "metadata": {
    "collapsed": true
   },
   "outputs": [],
   "source": [
    "# making the teleporting probabilities uniform\n",
    "v = np.ones(4)/4\n",
    "v = v[np.newaxis]\n",
    "v = v.T\n",
    "# Setting eT\n",
    "eT = np.ones(4)[np.newaxis]\n",
    "# initializing our first guess\n",
    "x0 = np.ones(4)/4\n",
    "x0 = x0[np.newaxis]\n",
    "x0 = x0.T\n",
    "            \n",
    "# performing the simulation\n",
    "for i in range(2000):\n",
    "    x0 = alpha*np.dot(P,x0) + (1-alpha)*v\n",
    "            \n",
    "x0 = np.squeeze(x0)"
   ]
  },
  {
   "cell_type": "code",
   "execution_count": 555,
   "metadata": {},
   "outputs": [
    {
     "name": "stdout",
     "output_type": "stream",
     "text": [
      "[ 0.38   0.22   0.275  0.125]\n"
     ]
    }
   ],
   "source": [
    "print(x0)"
   ]
  },
  {
   "cell_type": "code",
   "execution_count": null,
   "metadata": {
    "collapsed": true
   },
   "outputs": [],
   "source": []
  }
 ],
 "metadata": {
  "kernelspec": {
   "display_name": "Python 3",
   "language": "python",
   "name": "python3"
  },
  "language_info": {
   "codemirror_mode": {
    "name": "ipython",
    "version": 3
   },
   "file_extension": ".py",
   "mimetype": "text/x-python",
   "name": "python",
   "nbconvert_exporter": "python",
   "pygments_lexer": "ipython3",
   "version": "3.6.3"
  }
 },
 "nbformat": 4,
 "nbformat_minor": 2
}
