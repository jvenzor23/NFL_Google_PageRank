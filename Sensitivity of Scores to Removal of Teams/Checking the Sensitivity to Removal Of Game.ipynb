{
 "cells": [
  {
   "cell_type": "code",
   "execution_count": 151,
   "metadata": {
    "collapsed": true
   },
   "outputs": [],
   "source": [
    "import numpy as np\n",
    "import pandas as pd\n",
    "from itertools import combinations"
   ]
  },
  {
   "cell_type": "markdown",
   "metadata": {},
   "source": [
    "# Removing A Specified Row and Column from a Matrix"
   ]
  },
  {
   "cell_type": "code",
   "execution_count": 152,
   "metadata": {},
   "outputs": [
    {
     "name": "stdout",
     "output_type": "stream",
     "text": [
      "[[1 2 3]\n",
      " [4 5 6]\n",
      " [7 8 9]]\n"
     ]
    }
   ],
   "source": [
    "x = np.array([[1,2,3],[4,5,6],[7,8,9]])\n",
    "print(x)"
   ]
  },
  {
   "cell_type": "code",
   "execution_count": 153,
   "metadata": {},
   "outputs": [
    {
     "name": "stdout",
     "output_type": "stream",
     "text": [
      "[[1 3]\n",
      " [7 9]]\n"
     ]
    }
   ],
   "source": [
    "# if we want to remove the 2nd row and 2nd column, this works:\n",
    "y = np.delete(x,1,axis = 0)\n",
    "y = np.delete(y,1,axis = 1)\n",
    "print(y)"
   ]
  },
  {
   "cell_type": "code",
   "execution_count": 154,
   "metadata": {},
   "outputs": [
    {
     "name": "stdout",
     "output_type": "stream",
     "text": [
      "[[ 1  2  3  4]\n",
      " [ 5  6  7  8]\n",
      " [ 9 10 11 12]\n",
      " [13 14 15 16]]\n"
     ]
    }
   ],
   "source": [
    "z = np.array([[1,2,3,4],[5,6,7,8],[9,10,11,12],[13,14,15,16]])\n",
    "print(z)"
   ]
  },
  {
   "cell_type": "code",
   "execution_count": 155,
   "metadata": {},
   "outputs": [
    {
     "name": "stdout",
     "output_type": "stream",
     "text": [
      "[[ 1  3]\n",
      " [ 9 11]]\n"
     ]
    }
   ],
   "source": [
    "# if we want to remove both the 2nd and 4th rows and columns, this code works\n",
    "y = np.delete(z,(1,3),axis = 0)\n",
    "y = np.delete(y,(1,3),axis = 1)\n",
    "print(y)"
   ]
  },
  {
   "cell_type": "markdown",
   "metadata": {},
   "source": [
    "# Writing a Function to Take A Matrix and Repeatedly Apply this"
   ]
  },
  {
   "cell_type": "markdown",
   "metadata": {},
   "source": [
    "We want this function to take as an inputs:\n",
    "\n",
    "- $P_{ij}$, the original stochastic matrix.\n",
    "- $\\alpha$, the teleportation paramter\n",
    "- $stats1$, a vector containing the winning percentages of the teams of interest\n",
    "- $namesCols$, the names of the win percentage vectors\n",
    "- $N$, the number of teams to eliminate at each step (anticipate 1 or 2 will be best)\n",
    "- $method$, the method for determining $\\nu$, set to 0 (for using weights in each node) by default if not specified.\n",
    "\n",
    "\n",
    "We want this function to output:\n",
    "\n",
    "- $S$, a matrix of scores where each row is one of the 32 teams, and each column is that teams computed score when ommiting a combination of teams"
   ]
  },
  {
   "cell_type": "code",
   "execution_count": 156,
   "metadata": {
    "collapsed": true
   },
   "outputs": [],
   "source": [
    "def score_bagging(Pij, stats1, namesCols, alpha, N, Nsims = 5000, method = 0):\n",
    "    # setting a vector to contain each of the 32 team numbers\n",
    "    teamnum = np.arange(32)\n",
    "    # Getting the possible combinations of this to use\n",
    "    combs = list(combinations(teamnum, N))\n",
    "    ncombs = len(combs)\n",
    "    # initializing a matrix to store each of these values\n",
    "    scores = np.zeros((len(teamnum),ncombs))\n",
    "    # We iterate over all of these combinations, each time computing a final score vector\n",
    "    for counter, group in enumerate(combs):\n",
    "        # Adjusting Pij (first deleting the specified rows, then columns)\n",
    "        Pij_group = np.delete(Pij,group,axis = 0)\n",
    "        Pij_group = np.delete(Pij_group,group,axis = 1)\n",
    "        \n",
    "        # Ensuring Pij has no zero columns\n",
    "        if len(np.where(Pij_group.sum(axis = 0) == 0)[0]) > 0:\n",
    "                empty_vect = np.where(Pij_group.sum(axis = 0) == 0)[0]\n",
    "                for iCnt in range(len(empty_vect)):\n",
    "                    Pij_group[empty_vect[iCnt],empty_vect[iCnt]] = 1\n",
    "        \n",
    "        # -----------Getting the Scores (FROM PREVIOUS CODE)------------------------\n",
    "        # If we want the teleportation probabilties unifrom,\n",
    "        # or based on team winning perc\n",
    "        if method == 0:\n",
    "            # making the teleporting probabilities uniform\n",
    "            v = np.ones(len(teamnum)-N)/(len(teamnum)-N)\n",
    "            v = v[np.newaxis]\n",
    "            v = v.T\n",
    "            # Setting alpha\n",
    "            alpha = alpha\n",
    "            # Setting eT\n",
    "            eT = np.ones(len(teamnum)-N)[np.newaxis]   \n",
    "        else:\n",
    "            # making the teleporting probabilities proportional to\n",
    "            # the teams winning percentages\n",
    "            v = np.array(stats1[namesCols])\n",
    "            v = np.delete(v, group)\n",
    "            v = v[np.newaxis]\n",
    "            v = v.T\n",
    "            v = v/np.sum(v)\n",
    "            # Setting alpha\n",
    "            alpha = alpha\n",
    "            # Setting eT\n",
    "            eT = np.ones(len(teamnum)-N)[np.newaxis]\n",
    "                \n",
    "        # initializing our first guess\n",
    "        x0 = np.ones(len(teamnum)-N)/len(teamnum)-N\n",
    "        x0 = x0[np.newaxis]\n",
    "        x0 = x0.T\n",
    "            \n",
    "        # performing the simulation (so our scores are stored in x0)\n",
    "        for i in range(Nsims):\n",
    "            x0 = alpha*np.dot(Pij_group,x0) + (1-alpha)*v\n",
    "\n",
    "        # ---------------------- (END OF PREVIOUS CODE) ------------------------\n",
    "        # getting a vector of the values of the teams computed\n",
    "        kept_vect = np.delete(teamnum,group)\n",
    "        # Updating the matrix\n",
    "        scores[kept_vect,counter] = np.squeeze(x0)\n",
    "    return scores    "
   ]
  },
  {
   "cell_type": "markdown",
   "metadata": {},
   "source": [
    "# Testing the Function"
   ]
  },
  {
   "cell_type": "code",
   "execution_count": 230,
   "metadata": {
    "collapsed": true
   },
   "outputs": [],
   "source": [
    "data = pd.read_csv('Pij_2017.csv',index_col=0)\n",
    "stats2017 = pd.read_csv('2017_win_perc.csv',index_col=0)\n",
    "namesCols = \"win_perc_2017\""
   ]
  },
  {
   "cell_type": "code",
   "execution_count": 231,
   "metadata": {
    "collapsed": true
   },
   "outputs": [],
   "source": [
    "# getting Pij\n",
    "data2 = np.array(data)\n",
    "Pij = data2/data2.sum(axis=0)"
   ]
  },
  {
   "cell_type": "code",
   "execution_count": 251,
   "metadata": {},
   "outputs": [
    {
     "name": "stdout",
     "output_type": "stream",
     "text": [
      "[[ 0.          0.04459178  0.04851096 ...,  0.0464629   0.04868648\n",
      "   0.04749478]\n",
      " [ 0.02861215  0.          0.02994843 ...,  0.02983281  0.03014898\n",
      "   0.02946815]\n",
      " [ 0.02816158  0.02817317  0.         ...,  0.02796983  0.02758292\n",
      "   0.02815255]\n",
      " ..., \n",
      " [ 0.02308461  0.02355635  0.02380145 ...,  0.          0.02390594\n",
      "   0.02340536]\n",
      " [ 0.02376878  0.02378378  0.02377714 ...,  0.02377272  0.          0.02374149]\n",
      " [ 0.02526409  0.02509155  0.02507314 ...,  0.02507405  0.02528657  0.        ]]\n"
     ]
    }
   ],
   "source": [
    "scores = score_bagging(Pij, stats2017, namesCols, .4, N = 1, method = 0)\n",
    "print(scores)"
   ]
  },
  {
   "cell_type": "code",
   "execution_count": 252,
   "metadata": {
    "collapsed": true
   },
   "outputs": [],
   "source": [
    "# finding where the biggest difference occured\n",
    "diff_vect = np.zeros(32)\n",
    "for iCnt in range(32):\n",
    "    diff_vect[iCnt] = np.max(scores[iCnt,np.nonzero(scores[iCnt,])[0]]) - \\\n",
    "                np.min(scores[iCnt,np.nonzero(scores[iCnt,])[0]])"
   ]
  },
  {
   "cell_type": "code",
   "execution_count": 253,
   "metadata": {},
   "outputs": [
    {
     "name": "stdout",
     "output_type": "stream",
     "text": [
      "[ 0.0100398   0.00536359  0.00385521  0.00696024  0.00295629  0.00227872\n",
      "  0.          0.00379414  0.0011605   0.00647328  0.00596421  0.00220546\n",
      "  0.00534549  0.00595479  0.00313049  0.00371583  0.0025792   0.01316183\n",
      "  0.00641119  0.01488263  0.01433315  0.00066695  0.00464351  0.0023757\n",
      "  0.00372771  0.01273097  0.00266556  0.00116232  0.00521513  0.00286981\n",
      "  0.00123601  0.00220998]\n",
      "19\n"
     ]
    }
   ],
   "source": [
    "print(diff_vect)\n",
    "print(np.argmax(diff_vect))"
   ]
  },
  {
   "cell_type": "code",
   "execution_count": 254,
   "metadata": {},
   "outputs": [
    {
     "data": {
      "text/plain": [
       "array([ 0.03577493,  0.04867351,  0.04849427,  0.05033314,  0.04980859,\n",
       "        0.05048714,  0.05059239,  0.05016176,  0.05065756,  0.04982858,\n",
       "        0.05018439,  0.05055694,  0.04929766,  0.05035867,  0.0489702 ,\n",
       "        0.05063675,  0.05017936,  0.04955104,  0.04762646,  0.        ,\n",
       "        0.05039961,  0.05060782,  0.04977137,  0.04885071,  0.04248269,\n",
       "        0.05032907,  0.04900823,  0.050462  ,  0.04561099,  0.04964352,\n",
       "        0.05027421,  0.04926181])"
      ]
     },
     "execution_count": 254,
     "metadata": {},
     "output_type": "execute_result"
    }
   ],
   "source": [
    "scores[19,]"
   ]
  },
  {
   "cell_type": "code",
   "execution_count": 255,
   "metadata": {},
   "outputs": [
    {
     "data": {
      "text/plain": [
       "8"
      ]
     },
     "execution_count": 255,
     "metadata": {},
     "output_type": "execute_result"
    }
   ],
   "source": [
    "np.argmax(scores[19,np.nonzero(scores[19,])[0]])"
   ]
  },
  {
   "cell_type": "code",
   "execution_count": 256,
   "metadata": {},
   "outputs": [
    {
     "name": "stdout",
     "output_type": "stream",
     "text": [
      "['NE' 'BUF' 'WAS' 'TEN' 'HOU' 'DET' 'CLE' 'CHI' 'CIN' 'LA' 'SF' 'GB' 'DAL'\n",
      " 'MIN' 'DEN' 'BAL' 'TB' 'PIT' 'NO' 'KC' 'JAX' 'IND' 'CAR' 'OAK' 'LAC' 'SEA'\n",
      " 'ATL' 'NYG' 'PHI' 'NYJ' 'ARI' 'MIA']\n"
     ]
    }
   ],
   "source": [
    "team_names = np.array(data.columns.get_values())\n",
    "print(team_names)"
   ]
  },
  {
   "cell_type": "code",
   "execution_count": 432,
   "metadata": {},
   "outputs": [
    {
     "data": {
      "image/png": "[encoded data removed]",
      "text/plain": [
       "<matplotlib.figure.Figure at 0x127fb3710>"
      ]
     },
     "metadata": {},
     "output_type": "display_data"
    }
   ],
   "source": [
    "import matplotlib.pyplot as plt\n",
    "%matplotlib inline\n",
    "plt.figure(figsize=(15,7))\n",
    "\n",
    "team_names_new = np.delete(team_names,19)\n",
    "KC_scores = scores[19,np.nonzero(scores[19,])[0]]\n",
    "\n",
    "plt.bar(team_names_new,KC_scores, \\\n",
    "       color = ['red','blue','blue', 'blue', 'blue','blue','blue','blue', 'green', 'blue', \\\n",
    "                      'blue','blue','blue', 'blue', 'blue','blue','blue','blue', 'blue', 'blue', \\\n",
    "                      'blue','blue','blue', 'blue', 'blue','blue','blue','blue', 'blue', 'blue', \\\n",
    "                      'blue','blue'])\n",
    "plt.show()"
   ]
  },
  {
   "cell_type": "code",
   "execution_count": 437,
   "metadata": {
    "collapsed": true
   },
   "outputs": [],
   "source": [
    "def bar_plot(scores,team_names, team):\n",
    "\n",
    "    # plotting\n",
    "    plt.figure(figsize=(16,8))\n",
    "\n",
    "    team_names_new = np.delete(team_names,team)\n",
    "    team_scores = scores[team,np.nonzero(scores[team,])[0]]\n",
    "    color_plt = [\"blue\" for number in range(32)]\n",
    "    color_plt[np.argmax(scores[team,np.nonzero(scores[team,])[0]])] = \"green\"\n",
    "    color_plt[np.argmin(scores[team,np.nonzero(scores[team,])[0]])] = \"red\"\n",
    "    plt.title(\"Page Rank Scores for %s\" %team_names[team],fontsize = 20)\n",
    "    plt.xlabel(\"Team Excluded\",fontsize = 15)\n",
    "    plt.ylabel(\"Page Rank Score\",fontsize = 15)\n",
    "    \n",
    "    plt.bar(team_names_new,team_scores,color = color_plt)"
   ]
  },
  {
   "cell_type": "code",
   "execution_count": 438,
   "metadata": {
    "scrolled": false
   },
   "outputs": [
    {
     "name": "stdout",
     "output_type": "stream",
     "text": [
      "/Users/James/Desktop/Eigth Semester/Stochastic Modelling/NFL_Project\n"
     ]
    },
    {
     "data": {
      "image/png": "[encoded data removed]",
      "text/plain": [
       "<matplotlib.figure.Figure at 0x1287922b0>"
      ]
     },
     "metadata": {},
     "output_type": "display_data"
    }
   ],
   "source": [
    "bar_plot(scores,team_names, 19)\n",
    "%cd /Users/James/Desktop/Eigth Semester/Stochastic Modelling/NFL_Project/\n",
    "plt.savefig('variance.png')"
   ]
  },
  {
   "cell_type": "code",
   "execution_count": 300,
   "metadata": {
    "collapsed": true
   },
   "outputs": [],
   "source": [
    "scores = score_bagging(Pij, stats2017, namesCols, .4, N = 2, method = 0)"
   ]
  },
  {
   "cell_type": "code",
   "execution_count": 301,
   "metadata": {
    "collapsed": true
   },
   "outputs": [],
   "source": [
    "diff_vect2 = np.zeros(32)\n",
    "for iCnt in range(32):\n",
    "    diff_vect2[iCnt] = np.max(scores[iCnt,np.nonzero(scores[iCnt,])[0]]) - \\\n",
    "                np.min(scores[iCnt,np.nonzero(scores[iCnt,])[0]])"
   ]
  },
  {
   "cell_type": "code",
   "execution_count": 302,
   "metadata": {},
   "outputs": [
    {
     "name": "stdout",
     "output_type": "stream",
     "text": [
      "[ 0.0429614   0.00806445  0.00614377  0.00858684  0.00392805  0.00346455\n",
      "  0.          0.00678371  0.00230683  0.01256937  0.00944572  0.00421597\n",
      "  0.01019     0.0377057   0.00537368  0.00706247  0.00359086  0.02011822\n",
      "  0.01182669  0.02335615  0.02298902  0.0009335   0.00893357  0.00481471\n",
      "  0.00722421  0.01474921  0.00478622  0.00151025  0.03706165  0.00369962\n",
      "  0.00236172  0.00413588]\n"
     ]
    }
   ],
   "source": [
    "print(diff_vect2)"
   ]
  },
  {
   "cell_type": "code",
   "execution_count": 313,
   "metadata": {},
   "outputs": [
    {
     "data": {
      "text/plain": [
       "<Container object of 465 artists>"
      ]
     },
     "execution_count": 313,
     "metadata": {},
     "output_type": "execute_result"
    },
    {
     "data": {
      "image/png": "[encoded data removed]",
      "text/plain": [
       "<matplotlib.figure.Figure at 0x125dfb400>"
      ]
     },
     "metadata": {},
     "output_type": "display_data"
    }
   ],
   "source": [
    "plt.bar(np.arange(len(scores[0,np.nonzero(scores[0,])[0]])),scores[9,np.nonzero(scores[9,])[0]])"
   ]
  },
  {
   "cell_type": "code",
   "execution_count": 304,
   "metadata": {},
   "outputs": [
    {
     "data": {
      "text/plain": [
       "0.030003512420268157"
      ]
     },
     "execution_count": 304,
     "metadata": {},
     "output_type": "execute_result"
    }
   ],
   "source": [
    "np.mean(scores[1,np.nonzero(scores[1,])[0]])"
   ]
  },
  {
   "cell_type": "markdown",
   "metadata": {},
   "source": [
    "# Writing a Function to take the Score Matrix as an Input and Output the Final PageRank Vector"
   ]
  },
  {
   "cell_type": "markdown",
   "metadata": {},
   "source": [
    "This function takes as inputs:\n",
    "\n",
    "- $S$, a matrix of scores where each row is one of the 32 teams, and each column is that teams computed score when ommiting a combination of teams\n",
    "- $\\bar{x}$, the PageRank vector computed for each team over __full__ data set.\n",
    "- $\\beta$, where the PageRank for each team is computed to be $x_i = (1-\\beta)\\bar{x}_i + \\beta\\big(min\\{S_{ik}, 1 \\leq k \\leq {32 \\choose N} \\text{ for } k \\in Z \\}\\big)$ where $N$ is the number of games removed at a time from the \"score_bagging\" function.\n",
    "\n",
    "This function outputs:\n",
    "\n",
    "- $x$, the vector containing the final PageRank scores for each team."
   ]
  },
  {
   "cell_type": "code",
   "execution_count": 365,
   "metadata": {
    "collapsed": true
   },
   "outputs": [],
   "source": [
    "def final_score(S, x_bar, beta):\n",
    "    # getting the minimum vector\n",
    "    min_vect = np.zeros(32)\n",
    "    # computing the minimums\n",
    "    for iCnt in range(len(min_vect)):\n",
    "        min_vect[iCnt] =  np.min(S[iCnt,np.nonzero(S[iCnt,])[0]])\n",
    "    # computing x\n",
    "    x = (1-beta)*x_bar + beta*min_vect\n",
    "    # normalizing x\n",
    "    x = x/np.sum(x)\n",
    "    # returning the value\n",
    "    return x"
   ]
  },
  {
   "cell_type": "markdown",
   "metadata": {},
   "source": [
    "## Comuting the Normal PageRank Scores"
   ]
  },
  {
   "cell_type": "code",
   "execution_count": 366,
   "metadata": {
    "collapsed": true
   },
   "outputs": [],
   "source": [
    "data2 = np.array(data)\n",
    "Pij = data2/data2.sum(axis=0)\n",
    "# making the teleporting probabilities uniform\n",
    "v = np.ones(32)/32\n",
    "v = v[np.newaxis]\n",
    "v = v.T\n",
    "# Setting alpha\n",
    "alpha = 0.40\n",
    "# Setting eT\n",
    "eT = np.ones(32)[np.newaxis]\n",
    "mat = alpha*Pij + (1-alpha)*np.dot(v,eT)\n",
    "x0 = np.ones(32)/32\n",
    "x0 = x0[np.newaxis]\n",
    "x0 = x0.T\n",
    "nSims = 100000\n",
    "for i in range(nSims):\n",
    "    x0 = alpha*np.dot(Pij,x0) + (1-alpha)*v\n",
    "x0 = np.squeeze(x0)"
   ]
  },
  {
   "cell_type": "code",
   "execution_count": 367,
   "metadata": {},
   "outputs": [
    {
     "name": "stdout",
     "output_type": "stream",
     "text": [
      "[ 0.04729557  0.02928564  0.02732957  0.02803939  0.02401156  0.02511149\n",
      "  0.01875     0.02949476  0.02152838  0.04322848  0.02975541  0.02457846\n",
      "  0.03454632  0.04194584  0.02474222  0.03174271  0.02236897  0.04887867\n",
      "  0.03855017  0.04921579  0.04796522  0.01971701  0.03596716  0.02399624\n",
      "  0.03153186  0.03644147  0.03001763  0.02024483  0.04294168  0.02319317\n",
      "  0.023047    0.02453733]\n"
     ]
    }
   ],
   "source": [
    "print(x0)"
   ]
  },
  {
   "cell_type": "code",
   "execution_count": 368,
   "metadata": {
    "collapsed": true
   },
   "outputs": [],
   "source": [
    "scores = score_bagging(Pij, stats2017, namesCols, .4, N = 1, method = 0)"
   ]
  },
  {
   "cell_type": "code",
   "execution_count": 369,
   "metadata": {},
   "outputs": [
    {
     "name": "stdout",
     "output_type": "stream",
     "text": [
      "[ 0.04439473  0.02852396  0.0279545   0.0252246   0.02507082  0.02715025\n",
      "  0.02223355  0.03056423  0.02419195  0.04368337  0.02839704  0.02658881\n",
      "  0.03476132  0.04276085  0.02573388  0.03336079  0.02355529  0.04261436\n",
      "  0.03825595  0.04109585  0.04026075  0.02261348  0.03717308  0.02571269\n",
      "  0.03308511  0.02852479  0.03247584  0.02266863  0.04475371  0.02417821\n",
      "  0.02590138  0.02653624]\n"
     ]
    }
   ],
   "source": [
    "beta = 1\n",
    "xf = final_score(scores, x0, beta)\n",
    "print(xf)"
   ]
  },
  {
   "cell_type": "code",
   "execution_count": 370,
   "metadata": {},
   "outputs": [
    {
     "name": "stdout",
     "output_type": "stream",
     "text": [
      "['NE' 'BUF' 'WAS' 'TEN' 'HOU' 'DET' 'CLE' 'CHI' 'CIN' 'LA' 'SF' 'GB' 'DAL'\n",
      " 'MIN' 'DEN' 'BAL' 'TB' 'PIT' 'NO' 'KC' 'JAX' 'IND' 'CAR' 'OAK' 'LAC' 'SEA'\n",
      " 'ATL' 'NYG' 'PHI' 'NYJ' 'ARI' 'MIA']\n"
     ]
    }
   ],
   "source": [
    "team_names = np.array(data.columns.get_values())\n",
    "print(team_names)"
   ]
  },
  {
   "cell_type": "code",
   "execution_count": 371,
   "metadata": {
    "collapsed": true
   },
   "outputs": [],
   "source": [
    "mask = np.argsort(np.squeeze(xf))[::-1]\n",
    "x0_df = x0[mask]\n",
    "xf_df = xf[mask]\n",
    "team_names_df = team_names[mask]"
   ]
  },
  {
   "cell_type": "code",
   "execution_count": 372,
   "metadata": {},
   "outputs": [
    {
     "name": "stdout",
     "output_type": "stream",
     "text": [
      "   Team  score_bagged  score_init  init_rank\n",
      "0   PHI      0.044754    0.042942        5.0\n",
      "1    NE      0.044395    0.047296        3.0\n",
      "2    LA      0.043683    0.043228        4.0\n",
      "3   MIN      0.042761    0.041946        6.0\n",
      "4   PIT      0.042614    0.048879        1.0\n",
      "5    KC      0.041096    0.049216        0.0\n",
      "6   JAX      0.040261    0.047965        2.0\n",
      "7    NO      0.038256    0.038550        7.0\n",
      "8   CAR      0.037173    0.035967        9.0\n",
      "9   DAL      0.034761    0.034546       10.0\n",
      "10  BAL      0.033361    0.031743       11.0\n",
      "11  LAC      0.033085    0.031532       12.0\n",
      "12  ATL      0.032476    0.030018       13.0\n",
      "13  CHI      0.030564    0.029495       15.0\n",
      "14  SEA      0.028525    0.036441        8.0\n",
      "15  BUF      0.028524    0.029286       16.0\n",
      "16   SF      0.028397    0.029755       14.0\n",
      "17  WAS      0.027954    0.027330       18.0\n",
      "18  DET      0.027150    0.025111       19.0\n",
      "19   GB      0.026589    0.024578       21.0\n",
      "20  MIA      0.026536    0.024537       22.0\n",
      "21  ARI      0.025901    0.023047       26.0\n",
      "22  DEN      0.025734    0.024742       20.0\n",
      "23  OAK      0.025713    0.023996       24.0\n",
      "24  TEN      0.025225    0.028039       17.0\n",
      "25  HOU      0.025071    0.024012       23.0\n",
      "26  CIN      0.024192    0.021528       28.0\n",
      "27  NYJ      0.024178    0.023193       25.0\n",
      "28   TB      0.023555    0.022369       27.0\n",
      "29  NYG      0.022669    0.020245       29.0\n",
      "30  IND      0.022613    0.019717       30.0\n",
      "31  CLE      0.022234    0.018750       31.0\n"
     ]
    }
   ],
   "source": [
    "from scipy.stats import rankdata\n",
    "teamrank = {'Team': team_names_df, 'score_init': x0_df, 'score_bagged': xf_df}\n",
    "teamrank_df = pd.DataFrame(data=teamrank)\n",
    "teamrank_df[\"init_rank\"] = 32 - rankdata(np.array(teamrank[\"score_init\"]))\n",
    "print(teamrank_df)"
   ]
  },
  {
   "cell_type": "code",
   "execution_count": 354,
   "metadata": {},
   "outputs": [
    {
     "data": {
      "text/plain": [
       "array([  1.,   3.,   0.,   2.,   5.,   4.,   6.,   7.,   9.,  10.,   8.,\n",
       "        11.,  12.,  13.,  15.,  14.,  16.,  18.,  17.,  19.,  21.,  22.,\n",
       "        20.,  24.,  23.,  26.,  25.,  27.,  28.,  29.,  30.,  31.])"
      ]
     },
     "execution_count": 354,
     "metadata": {},
     "output_type": "execute_result"
    }
   ],
   "source": [
    "32 - rankdata(np.array(teamrank[\"score_init\"]))"
   ]
  },
  {
   "cell_type": "code",
   "execution_count": 393,
   "metadata": {
    "collapsed": true
   },
   "outputs": [],
   "source": [
    "def beta_optimize_perc_combs(betas,alpha,method,filesScore,filesPercs,namesCols, N = 1, nSims = 4000,weighted = True):\n",
    "    # intializing two vectors to store results\n",
    "    score_perc_total = np.zeros(len(betas))\n",
    "    score_perc_S2 = np.zeros(len(betas))\n",
    "    wins_perc_total = np.zeros(len(betas))\n",
    "    wins_perc_S2 = np.zeros(len(betas))\n",
    "\n",
    "    indexer = 0\n",
    "    \n",
    "    # Generating the scores matrix for each year\n",
    "    scores_mat_for_all = np.zeros((len(filesScore) - 1,32,sc.special.comb(32,N)))\n",
    "    \n",
    "    # iterating over all years (we lose a year since we don't have anything \n",
    "    # to regress the 2019 data on)\n",
    "    for year_of_data in np.arange(len(filesScore) - 1):\n",
    "            \n",
    "        # reading in the data\n",
    "        data = pd.read_csv(filesScore[year_of_data],index_col=0)\n",
    "        stats1 = pd.read_csv(filesPercs[year_of_data],index_col=0)\n",
    "        stats2 = pd.read_csv(filesPercs[year_of_data + 1],index_col=0)\n",
    "        # converting to a numpy array\n",
    "        data2 = np.array(data)\n",
    "            \n",
    "        if(weighted == False):\n",
    "            data2[data2!=0] = 1\n",
    "            \n",
    "        # making the Pij matrix\n",
    "        Pij = data2/data2.sum(axis=0)\n",
    "            \n",
    "        # If we want the teleportation probabilties unifrom,\n",
    "        # or based on team winning perc\n",
    "        if method == 0:\n",
    "            # making the teleporting probabilities uniform\n",
    "            v = np.ones(32)/32\n",
    "            v = v[np.newaxis]\n",
    "            v = v.T\n",
    "            # Setting eT\n",
    "            eT = np.ones(32)[np.newaxis]   \n",
    "        else:\n",
    "            # making the teleporting probabilities proportional to\n",
    "            # the teams winning percentages\n",
    "            v = np.array(stats1[namesCols[year_of_data]])\n",
    "            v = v[np.newaxis]\n",
    "            v = v.T\n",
    "            v = v/np.sum(v)\n",
    "            # Setting eT\n",
    "            eT = np.ones(32)[np.newaxis]\n",
    "                \n",
    "        # initializing our first guess\n",
    "        x0 = np.ones(32)/32\n",
    "        x0 = x0[np.newaxis]\n",
    "        x0 = x0.T\n",
    "            \n",
    "        # performing the simulation\n",
    "        for i in range(nSims_use):\n",
    "            x0 = alpha*np.dot(Pij,x0) + (1-alpha)*v\n",
    "            \n",
    "        x0 = np.squeeze(x0)\n",
    "                \n",
    "        # ---------------------- NEW PART OF FUNCTION (ADAPTING x0 to xf) ---------------\n",
    "            \n",
    "        scores_mat[year_of_data] = score_bagging(Pij, stats1, namesCols[year_of_data], \\\n",
    "                                       alpha, N, Nsims = nSims_use, method = method)\n",
    "        \n",
    "        \n",
    "    # ----------------------- ITERATING OVER BETA ------------\n",
    "    \n",
    "    # making a waitbar\n",
    "    toolbar_width = len(betas)\n",
    "    sys.stdout.write(\"[%s]\" % (\" \" * toolbar_width))\n",
    "    sys.stdout.flush()\n",
    "    sys.stdout.write(\"\\b\" * (toolbar_width+1))\n",
    "\n",
    "    \n",
    "    for beta_try in betas:\n",
    "        \n",
    "        if(alpha >= .8):\n",
    "            nSims_use = nSims\n",
    "        else:\n",
    "            nSims_use = 2500\n",
    "        \n",
    "        # initializing the two correlations\n",
    "        mc_perc_score = 0\n",
    "        mc_perc_wins = 0\n",
    "        \n",
    "        # intializing a vector to get each percentage (for getting a standard deviation)\n",
    "        sd_vect = np.zeros(len(filesScore) - 1)\n",
    "        sd_vect_wins = np.zeros(len(filesScore) - 1)\n",
    "        \n",
    "        # iterating over all years (we lose a year since we don't have anything \n",
    "        # to regress the 2019 data on)\n",
    "        for year_of_data in np.arange(len(filesScore) - 1):\n",
    "            \n",
    "            xf = final_score(scores_mat[year_of_data], x0, beta_try)\n",
    "            \n",
    "            # -------------------------------------------------------------------------------\n",
    "\n",
    "            # defining the team names\n",
    "            team_names = np.array(data.columns.get_values())\n",
    "            \n",
    "            # ordering the team's by their score\n",
    "            mask = np.argsort(np.squeeze(xf))[::-1]\n",
    "            xf_df = np.squeeze(xf[mask])\n",
    "            team_names_df = team_names[mask]\n",
    "            \n",
    "            # forming a data frame\n",
    "            teamrank = {'Team': team_names_df, 'score': xf_df, 'wins': 32*16/2*xf_df}\n",
    "            teamrank_df = pd.DataFrame(data=teamrank)\n",
    "            \n",
    "            output = pd.merge(teamrank_df,\n",
    "                  stats1,\n",
    "                  left_on = \"Team\",\n",
    "                  right_on = \"team\",\n",
    "                  how = \"inner\")\n",
    "\n",
    "            output = pd.merge(output,\n",
    "                  stats2,\n",
    "                  left_on = \"Team\",\n",
    "                  right_on = \"team\",\n",
    "                  how = \"inner\")\n",
    "            \n",
    "            # Figuring out ranks\n",
    "            names = [namesCols[year_of_data],namesCols[year_of_data+1]]\n",
    "            pu, ps, pw, opps = ranking_analyzer(output,names)\n",
    "            \n",
    "            # Storing the results\n",
    "            mc_perc_score += ps\n",
    "            sd_vect[year_of_data] = ps\n",
    "            mc_perc_wins += pw\n",
    "            sd_vect_wins[year_of_data] = pw\n",
    "            \n",
    "            \n",
    "            \n",
    "        # Updating the percentages\n",
    "        score_perc_total[indexer] = mc_perc_score/(len(filesScore) - 1)\n",
    "        score_perc_S2[indexer] = np.std(sd_vect)/np.sqrt(len(filesScore) - 1)\n",
    "        wins_perc_total[indexer] = mc_perc_wins/(len(filesScore) - 1)\n",
    "        wins_perc_S2[indexer] = np.std(sd_vect_wins)/np.sqrt(len(filesScore) - 1)\n",
    "        indexer += 1\n",
    "        sys.stdout.write(\"-\")\n",
    "        sys.stdout.flush()\n",
    "    \n",
    "        \n",
    "    sys.stdout.write(\"\\n\")\n",
    "    return score_perc_total,score_perc_S2,wins_perc_total,wins_perc_S2"
   ]
  }
 ],
 "metadata": {
  "kernelspec": {
   "display_name": "Python 3",
   "language": "python",
   "name": "python3"
  },
  "language_info": {
   "codemirror_mode": {
    "name": "ipython",
    "version": 3
   },
   "file_extension": ".py",
   "mimetype": "text/x-python",
   "name": "python",
   "nbconvert_exporter": "python",
   "pygments_lexer": "ipython3",
   "version": "3.6.3"
  }
 },
 "nbformat": 4,
 "nbformat_minor": 2
}
