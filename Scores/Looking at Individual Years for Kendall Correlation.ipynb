{
 "cells": [
  {
   "cell_type": "code",
   "execution_count": 1,
   "metadata": {
    "collapsed": true
   },
   "outputs": [],
   "source": [
    "import numpy as np\n",
    "import pandas as pd\n",
    "from scipy import stats"
   ]
  },
  {
   "cell_type": "code",
   "execution_count": 86,
   "metadata": {
    "collapsed": true
   },
   "outputs": [],
   "source": [
    "# method\n",
    "alphas = np.linspace(.025,.95,30)\n",
    "filesScore = [\"Pij_2017.csv\",\"Pij_2018.csv\"]\n",
    "\n",
    "filesPercs = [\"2017_win_perc.csv\",\"2018_win_perc.csv\"]\n",
    "namesCols = [\"win_perc_2017\",\"win_perc_2018\"]"
   ]
  },
  {
   "cell_type": "code",
   "execution_count": 87,
   "metadata": {
    "collapsed": true
   },
   "outputs": [],
   "source": [
    "def alpha_optimize_pc(method,alphas,filesScore,filesPercs,namesCols,nSims = 10000,weighted = True):\n",
    "    # intializing two vectors to store results\n",
    "    score_perc_total = np.zeros(len(alphas))\n",
    "    wins_perc_total = np.zeros(len(alphas))\n",
    "    score_perc_S2 = np.zeros(len(alphas))\n",
    "    indexer = 0\n",
    "    \n",
    "    # iterating over all alphas\n",
    "    for alpha_try in alphas:\n",
    "        \n",
    "        if(alpha_try >= .8):\n",
    "            nSims_use = nSims\n",
    "        else:\n",
    "            nSims_use = 5000\n",
    "        \n",
    "        # initializing the two correlations\n",
    "        mc_perc_score = 0\n",
    "        mc_perc_wins = 0\n",
    "        \n",
    "        # intializing a vector to get each percentage (for getting a standard deviation)\n",
    "        sd_vect = np.zeros(len(filesScore) - 1)\n",
    "        \n",
    "        # iterating over all years (we lose a year since we don't have anything \n",
    "        # to regress the 2019 data on)\n",
    "        for year_of_data in np.arange(len(filesScore) - 1):\n",
    "            \n",
    "            # reading in the data\n",
    "            data = pd.read_csv(filesScore[year_of_data],index_col=0)\n",
    "            stats1 = pd.read_csv(filesPercs[year_of_data],index_col=0)\n",
    "            stats2 = pd.read_csv(filesPercs[year_of_data + 1],index_col=0)\n",
    "            # converting to a numpy array\n",
    "            data2 = np.array(data)\n",
    "            \n",
    "            if(weighted == False):\n",
    "                data2[data2!=0] = 1\n",
    "            \n",
    "            # making the Pij matrix\n",
    "            Pij = data2/data2.sum(axis=0)\n",
    "            \n",
    "            # If we want the teleportation probabilties unifrom,\n",
    "            # or based on team winning perc\n",
    "            if method == 0:\n",
    "                # making the teleporting probabilities uniform\n",
    "                v = np.ones(32)/32\n",
    "                v = v[np.newaxis]\n",
    "                v = v.T\n",
    "                # Setting alpha\n",
    "                alpha = alpha_try\n",
    "                # Setting eT\n",
    "                eT = np.ones(32)[np.newaxis]   \n",
    "            else:\n",
    "                # making the teleporting probabilities proportional to\n",
    "                # the teams winning percentages\n",
    "                v = np.array(stats1[namesCols[year_of_data]])\n",
    "                v = v[np.newaxis]\n",
    "                v = v.T\n",
    "                v = v/np.sum(v)\n",
    "                # Setting alpha\n",
    "                alpha = alpha_try\n",
    "                # Setting eT\n",
    "                eT = np.ones(32)[np.newaxis]\n",
    "                \n",
    "            # initializing our first guess\n",
    "            x0 = np.ones(32)/32\n",
    "            x0 = x0[np.newaxis]\n",
    "            x0 = x0.T\n",
    "            \n",
    "            # performing the simulation\n",
    "            for i in range(nSims_use):\n",
    "                x0 = alpha*np.dot(Pij,x0) + (1-alpha)*v\n",
    "\n",
    "            # defining the team names\n",
    "            team_names = np.array(data.columns.get_values())\n",
    "            \n",
    "            # ordering the team's by their score\n",
    "            mask = np.argsort(np.squeeze(x0))[::-1]\n",
    "            x0_df = np.squeeze(x0[mask])\n",
    "            team_names_df = team_names[mask]\n",
    "            \n",
    "            # forming a data frame\n",
    "            teamrank = {'Team': team_names_df, 'score': x0_df, 'wins': 32*16/2*x0_df}\n",
    "            teamrank_df = pd.DataFrame(data=teamrank)\n",
    "            \n",
    "            output = pd.merge(teamrank_df,\n",
    "                  stats1,\n",
    "                  left_on = \"Team\",\n",
    "                  right_on = \"team\",\n",
    "                  how = \"inner\")\n",
    "\n",
    "            output = pd.merge(output,\n",
    "                  stats2,\n",
    "                  left_on = \"Team\",\n",
    "                  right_on = \"team\",\n",
    "                  how = \"inner\")\n",
    "            \n",
    "            # Figuring out ranks\n",
    "            output['rank1'] = output[namesCols[year_of_data]].rank(ascending = False)\n",
    "            output['rank2'] = output[namesCols[year_of_data + 1]].rank(ascending = False)\n",
    "            \n",
    "            # Computing the percent change correct\n",
    "            score_rank = np.arange(32) + 1\n",
    "            rank1 = np.array(output[\"rank1\"])\n",
    "            rank2 = np.array(output[\"rank2\"])\n",
    "            \n",
    "            tau_score,p_value = stats.kendalltau(score_rank, rank2)\n",
    "            tau_wins,p_value = stats.kendalltau(rank1, rank2)\n",
    "            \n",
    "            # Storing the results\n",
    "            mc_perc_wins += tau_wins\n",
    "            mc_perc_score += tau_score\n",
    "            sd_vect[year_of_data] = tau_score\n",
    "            \n",
    "        # Updating the percentages\n",
    "        wins_perc_total[indexer] = mc_perc_wins/(len(filesScore) - 1)\n",
    "        score_perc_total[indexer] = mc_perc_score/(len(filesScore) - 1)\n",
    "        score_perc_S2[indexer] = np.std(sd_vect)/np.sqrt(len(filesScore) - 1)\n",
    "        indexer += 1\n",
    "        \n",
    "    return score_perc_total,score_perc_S2,wins_perc_total"
   ]
  },
  {
   "cell_type": "code",
   "execution_count": 88,
   "metadata": {},
   "outputs": [],
   "source": [
    "score_corr0,score_perc_S20,wins0 = alpha_optimize_pc(0,alphas,filesScore,filesPercs,namesCols)"
   ]
  },
  {
   "cell_type": "code",
   "execution_count": 91,
   "metadata": {
    "collapsed": true
   },
   "outputs": [],
   "source": [
    "import matplotlib.pyplot as plt\n",
    "%matplotlib inline"
   ]
  },
  {
   "cell_type": "code",
   "execution_count": 92,
   "metadata": {},
   "outputs": [
    {
     "data": {
      "image/png": "[encoded data removed]",
      "text/plain": [
       "<matplotlib.figure.Figure at 0x11a7583c8>"
      ]
     },
     "metadata": {},
     "output_type": "display_data"
    }
   ],
   "source": [
    "plt.figure(figsize=(15,7))\n",
    "\n",
    "plt.plot(alphas,score_corr0,'b-',label = r'Year $N$ PageRank Score with uniform $\\gamma$')\n",
    "plt.plot(alphas,wins0,'k--',label = r'Year $N$ Wins')\n",
    "plt.xlabel(r'1 - Teleportation probability ($\\alpha$)')\n",
    "plt.ylabel(\"Kendall Coefficient\")\n",
    "plt.legend()\n",
    "plt.grid()\n",
    "plt.show()"
   ]
  },
  {
   "cell_type": "code",
   "execution_count": null,
   "metadata": {
    "collapsed": true
   },
   "outputs": [],
   "source": []
  }
 ],
 "metadata": {
  "kernelspec": {
   "display_name": "Python 3",
   "language": "python",
   "name": "python3"
  },
  "language_info": {
   "codemirror_mode": {
    "name": "ipython",
    "version": 3
   },
   "file_extension": ".py",
   "mimetype": "text/x-python",
   "name": "python",
   "nbconvert_exporter": "python",
   "pygments_lexer": "ipython3",
   "version": "3.6.3"
  }
 },
 "nbformat": 4,
 "nbformat_minor": 2
}
